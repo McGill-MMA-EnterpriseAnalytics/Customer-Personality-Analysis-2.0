{
 "cells": [
  {
   "cell_type": "code",
   "execution_count": 29,
   "metadata": {},
   "outputs": [],
   "source": [
    "import pandas as pd\n",
    "import numpy as np\n",
    "import shap\n",
    "import matplotlib.pyplot as plt\n",
    "from evidently.report import Report\n",
    "from evidently.metrics import DataDriftTable, DatasetDriftMetric\n",
    "from sklearn.model_selection import train_test_split\n",
    "from scipy.stats import ks_2samp\n",
    "from xgboost import XGBRegressor\n",
    "from causalml.inference.meta import XGBTRegressor"
   ]
  },
  {
   "cell_type": "code",
   "execution_count": 10,
   "metadata": {},
   "outputs": [],
   "source": [
    "# Import Data\n",
    "df = pd.read_csv('/Users/qianlou/Documents/GitHub/Customer-Personality-Analysis-2.0/Data/Preprocessed Data/Final Preprocessed Data.csv')\n"
   ]
  },
  {
   "cell_type": "code",
   "execution_count": 32,
   "metadata": {},
   "outputs": [],
   "source": [
    "treatments = ['Income_Category_High', 'Is_Parent', 'Cmp_Attitude', 'Complain']\n",
    "covariates_list = ['Income_Category_High', 'Income_Category_Low', 'Income_Category_Medium',\n",
    "    'Complain', 'Is_Parent', 'Cmp_Attitude', 'Family_Size', 'Age',\n",
    "    'Member_Year', 'Total_amount', 'Total_purchase',\n",
    "    'NumWebVisitsMonth', 'NumDealsPurchases', 'Recency']"
   ]
  },
  {
   "cell_type": "code",
   "execution_count": 35,
   "metadata": {},
   "outputs": [
    {
     "name": "stdout",
     "output_type": "stream",
     "text": [
      "Drift detection report generated and saved as 'data_drift_report.html'.\n"
     ]
    }
   ],
   "source": [
    "X = df[covariates_list]\n",
    "\n",
    "# Split into training (reference) and testing (current) datasets\n",
    "X_train, X_test = train_test_split(X, test_size=0.2, random_state=42)\n",
    "\n",
    "# Create a comprehensive drift report\n",
    "data_drift_dataset_report = Report(\n",
    "    metrics=[\n",
    "        DatasetDriftMetric(),  # Dataset-level drift\n",
    "        DataDriftTable()  # Detailed table for feature-level drift\n",
    "    ]\n",
    ")\n",
    "\n",
    "# Run the drift analysis comparing training (reference) to testing (current) data\n",
    "data_drift_dataset_report.run(reference_data=X_train, current_data=X_test)\n",
    "\n",
    "# Save the drift report to an HTML file\n",
    "data_drift_dataset_report.save_html(\"data_drift_report.html\")\n",
    "\n",
    "# Output confirmation\n",
    "print(\"Drift detection report generated and saved as 'data_drift_report.html'.\")"
   ]
  },
  {
   "cell_type": "code",
   "execution_count": null,
   "metadata": {},
   "outputs": [],
   "source": []
  }
 ],
 "metadata": {
  "kernelspec": {
   "display_name": "Python 3",
   "language": "python",
   "name": "python3"
  },
  "language_info": {
   "codemirror_mode": {
    "name": "ipython",
    "version": 3
   },
   "file_extension": ".py",
   "mimetype": "text/x-python",
   "name": "python",
   "nbconvert_exporter": "python",
   "pygments_lexer": "ipython3",
   "version": "3.8.18"
  }
 },
 "nbformat": 4,
 "nbformat_minor": 2
}
