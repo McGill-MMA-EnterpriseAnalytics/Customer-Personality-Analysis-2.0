{
 "cells": [
  {
   "cell_type": "code",
   "execution_count": 16,
   "metadata": {},
   "outputs": [
    {
     "name": "stdout",
     "output_type": "stream",
     "text": [
      "fatal: destination path 'getting-started-app' already exists and is not an empty directory.\n"
     ]
    }
   ],
   "source": [
    "# Get the app\n",
    "!git clone https://github.com/docker/getting-started-app.git"
   ]
  },
  {
   "cell_type": "code",
   "execution_count": 17,
   "metadata": {},
   "outputs": [],
   "source": [
    "# Build the app's image\n",
    "!cd /Users/kellyliu/Documents/GitHub/Customer-Personality-Analysis-2.0/Docker/getting-started-app"
   ]
  },
  {
   "cell_type": "code",
   "execution_count": 18,
   "metadata": {},
   "outputs": [],
   "source": [
    "# Create an empty file named Dockerfile.\n",
    "# !touch Dockerfile"
   ]
  },
  {
   "cell_type": "code",
   "execution_count": 19,
   "metadata": {},
   "outputs": [],
   "source": [
    "# make sure in the getting-started-app directory\n",
    "!cd /Users/kellyliu/Documents/GitHub/Customer-Personality-Analysis-2.0/Docker/getting-started-app"
   ]
  },
  {
   "cell_type": "code",
   "execution_count": 20,
   "metadata": {},
   "outputs": [
    {
     "name": "stdout",
     "output_type": "stream",
     "text": [
      "\u001b[1A\u001b[1B\u001b[0G\u001b[?25l[+] Building 0.0s (0/1)                                    docker:desktop-linux\n",
      "\u001b[?25h\u001b[1A\u001b[0G\u001b[?25l[+] Building 0.2s (1/2)                                    docker:desktop-linux\n",
      "\u001b[34m => [internal] load build definition from Dockerfile                       0.0s\n",
      "\u001b[0m\u001b[34m => => transferring dockerfile: 181B                                       0.0s\n",
      "\u001b[0m => resolve image config for docker.io/docker/dockerfile:1                 0.2s\n",
      "\u001b[?25h\u001b[1A\u001b[1A\u001b[1A\u001b[1A\u001b[0G\u001b[?25l[+] Building 0.2s (1/3)                                    docker:desktop-linux\n",
      "\u001b[34m => [internal] load build definition from Dockerfile                       0.0s\n",
      "\u001b[0m\u001b[34m => => transferring dockerfile: 181B                                       0.0s\n",
      "\u001b[0m => resolve image config for docker.io/docker/dockerfile:1                 0.2s\n",
      " => [auth] docker/dockerfile:pull token for registry-1.docker.io           0.0s\n",
      "\u001b[?25h\u001b[1A\u001b[1A\u001b[1A\u001b[1A\u001b[1A\u001b[0G\u001b[?25l[+] Building 0.3s (2/3)                                    docker:desktop-linux\n",
      "\u001b[34m => [internal] load build definition from Dockerfile                       0.0s\n",
      "\u001b[0m\u001b[34m => => transferring dockerfile: 181B                                       0.0s\n",
      "\u001b[0m => resolve image config for docker.io/docker/dockerfile:1                 0.3s\n",
      "\u001b[34m => [auth] docker/dockerfile:pull token for registry-1.docker.io           0.0s\n",
      "\u001b[0m\u001b[?25h\u001b[1A\u001b[1A\u001b[1A\u001b[1A\u001b[1A\u001b[0G\u001b[?25l[+] Building 0.5s (2/3)                                    docker:desktop-linux\n",
      "\u001b[34m => [internal] load build definition from Dockerfile                       0.0s\n",
      "\u001b[0m\u001b[34m => => transferring dockerfile: 181B                                       0.0s\n",
      "\u001b[0m => resolve image config for docker.io/docker/dockerfile:1                 0.5s\n",
      "\u001b[34m => [auth] docker/dockerfile:pull token for registry-1.docker.io           0.0s\n",
      "\u001b[0m\u001b[?25h\u001b[1A\u001b[1A\u001b[1A\u001b[1A\u001b[1A\u001b[0G\u001b[?25l[+] Building 0.5s (3/3)                                    docker:desktop-linux\n",
      "\u001b[34m => [internal] load build definition from Dockerfile                       0.0s\n",
      "\u001b[0m\u001b[34m => => transferring dockerfile: 181B                                       0.0s\n",
      "\u001b[0m\u001b[34m => resolve image config for docker.io/docker/dockerfile:1                 0.5s\n",
      "\u001b[0m\u001b[34m => [auth] docker/dockerfile:pull token for registry-1.docker.io           0.0s\n",
      "\u001b[0m\u001b[?25h\u001b[1A\u001b[1A\u001b[1A\u001b[1A\u001b[1A\u001b[0G\u001b[?25l[+] Building 0.6s (4/5)                                    docker:desktop-linux\n",
      "\u001b[34m => [internal] load build definition from Dockerfile                       0.0s\n",
      "\u001b[0m\u001b[34m => => transferring dockerfile: 181B                                       0.0s\n",
      "\u001b[0m\u001b[34m => resolve image config for docker.io/docker/dockerfile:1                 0.5s\n",
      "\u001b[0m\u001b[34m => [auth] docker/dockerfile:pull token for registry-1.docker.io           0.0s\n",
      "\u001b[0m\u001b[34m => CACHED docker-image://docker.io/docker/dockerfile:1@sha256:dbbd5e059e  0.0s\n",
      "\u001b[0m => [internal] load metadata for docker.io/library/node:18-alpine          0.0s\n",
      "\u001b[?25h\u001b[1A\u001b[1A\u001b[1A\u001b[1A\u001b[1A\u001b[1A\u001b[1A\u001b[0G\u001b[?25l[+] Building 0.8s (5/6)                                    docker:desktop-linux\n",
      "\u001b[34m => [internal] load build definition from Dockerfile                       0.0s\n",
      "\u001b[0m\u001b[34m => => transferring dockerfile: 181B                                       0.0s\n",
      "\u001b[0m\u001b[34m => resolve image config for docker.io/docker/dockerfile:1                 0.5s\n",
      "\u001b[0m\u001b[34m => [auth] docker/dockerfile:pull token for registry-1.docker.io           0.0s\n",
      "\u001b[0m\u001b[34m => CACHED docker-image://docker.io/docker/dockerfile:1@sha256:dbbd5e059e  0.0s\n",
      "\u001b[0m => [internal] load metadata for docker.io/library/node:18-alpine          0.2s\n",
      "\u001b[34m => [auth] library/node:pull token for registry-1.docker.io                0.0s\n",
      "\u001b[0m\u001b[?25h\u001b[1A\u001b[1A\u001b[1A\u001b[1A\u001b[1A\u001b[1A\u001b[1A\u001b[1A\u001b[0G\u001b[?25l[+] Building 0.9s (6/6)                                    docker:desktop-linux\n",
      "\u001b[34m => [internal] load build definition from Dockerfile                       0.0s\n",
      "\u001b[0m\u001b[34m => => transferring dockerfile: 181B                                       0.0s\n",
      "\u001b[0m\u001b[34m => resolve image config for docker.io/docker/dockerfile:1                 0.5s\n",
      "\u001b[0m\u001b[34m => [auth] docker/dockerfile:pull token for registry-1.docker.io           0.0s\n",
      "\u001b[0m\u001b[34m => CACHED docker-image://docker.io/docker/dockerfile:1@sha256:dbbd5e059e  0.0s\n",
      "\u001b[0m\u001b[34m => [internal] load metadata for docker.io/library/node:18-alpine          0.3s\n",
      "\u001b[0m\u001b[34m => [auth] library/node:pull token for registry-1.docker.io                0.0s\n",
      "\u001b[0m\u001b[?25h\u001b[1A\u001b[1A\u001b[1A\u001b[1A\u001b[1A\u001b[1A\u001b[1A\u001b[1A\u001b[0G\u001b[?25l[+] Building 1.0s (13/13) FINISHED                         docker:desktop-linux\n",
      "\u001b[34m => [internal] load build definition from Dockerfile                       0.0s\n",
      "\u001b[0m\u001b[34m => => transferring dockerfile: 181B                                       0.0s\n",
      "\u001b[0m\u001b[34m => resolve image config for docker.io/docker/dockerfile:1                 0.5s\n",
      "\u001b[0m\u001b[34m => [auth] docker/dockerfile:pull token for registry-1.docker.io           0.0s\n",
      "\u001b[0m\u001b[34m => CACHED docker-image://docker.io/docker/dockerfile:1@sha256:dbbd5e059e  0.0s\n",
      "\u001b[0m\u001b[34m => [internal] load metadata for docker.io/library/node:18-alpine          0.3s\n",
      "\u001b[0m\u001b[34m => [auth] library/node:pull token for registry-1.docker.io                0.0s\n",
      "\u001b[0m\u001b[34m => [internal] load .dockerignore                                          0.0s\n",
      "\u001b[0m\u001b[34m => => transferring context: 2B                                            0.0s\n",
      "\u001b[0m\u001b[34m => [1/4] FROM docker.io/library/node:18-alpine@sha256:4837c2ac8998cf172f  0.0s\n",
      "\u001b[0m\u001b[34m => [internal] load build context                                          0.0s\n",
      "\u001b[0m\u001b[34m => => transferring context: 6.25kB                                        0.0s\n",
      "\u001b[0m\u001b[34m => CACHED [2/4] WORKDIR /app                                              0.0s\n",
      "\u001b[0m\u001b[34m => CACHED [3/4] COPY . .                                                  0.0s\n",
      "\u001b[0m\u001b[34m => CACHED [4/4] RUN yarn install --production                             0.0s\n",
      "\u001b[0m\u001b[34m => exporting to image                                                     0.0s\n",
      "\u001b[0m\u001b[34m => => exporting layers                                                    0.0s\n",
      "\u001b[0m\u001b[34m => => writing image sha256:ee69215d415a3e70e6bf8aa10682c329949dbe317e0ca  0.0s\n",
      "\u001b[0m\u001b[34m => => naming to docker.io/library/getting-started                         0.0s\n",
      "\u001b[0m\u001b[?25h\n",
      "View build details: \u001b]8;;docker-desktop://dashboard/build/desktop-linux/desktop-linux/4yn3mr4vx9kmalwzplwij9g4u\u001b\\docker-desktop://dashboard/build/desktop-linux/desktop-linux/4yn3mr4vx9kmalwzplwij9g4u\u001b]8;;\u001b\\\n",
      "\u001b[1m\n",
      "What's Next?\n",
      "\u001b[0m  View a summary of image vulnerabilities and recommendations → \u001b[36mdocker scout quickview\u001b[0m\n"
     ]
    }
   ],
   "source": [
    "# Build the app's image\n",
    "!docker build -t getting-started ."
   ]
  },
  {
   "cell_type": "code",
   "execution_count": 21,
   "metadata": {},
   "outputs": [
    {
     "name": "stdout",
     "output_type": "stream",
     "text": [
      "62d888e43a3a5d185f7822e0d744ce23fac314ee598afaaff9d120663c54159b\n"
     ]
    }
   ],
   "source": [
    "# Start an app container\n",
    "!docker run -dp 127.0.0.1:3000:3000 getting-started"
   ]
  }
 ],
 "metadata": {
  "kernelspec": {
   "display_name": "base",
   "language": "python",
   "name": "python3"
  },
  "language_info": {
   "codemirror_mode": {
    "name": "ipython",
    "version": 3
   },
   "file_extension": ".py",
   "mimetype": "text/x-python",
   "name": "python",
   "nbconvert_exporter": "python",
   "pygments_lexer": "ipython3",
   "version": "3.11.5"
  }
 },
 "nbformat": 4,
 "nbformat_minor": 2
}
