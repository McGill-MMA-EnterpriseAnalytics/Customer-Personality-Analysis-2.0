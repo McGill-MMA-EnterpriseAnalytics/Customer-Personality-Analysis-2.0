{
 "cells": [
  {
   "cell_type": "markdown",
   "metadata": {},
   "source": [
    "dataset URL: https://www.kaggle.com/datasets/imakash3011/customer-personality-analysis"
   ]
  }
 ],
 "metadata": {
  "language_info": {
   "name": "python"
  }
 },
 "nbformat": 4,
 "nbformat_minor": 2
}
