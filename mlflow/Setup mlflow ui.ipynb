{
 "cells": [
  {
   "cell_type": "markdown",
   "metadata": {},
   "source": [
    "# Setup local hosted mlflow ui"
   ]
  },
  {
   "cell_type": "code",
   "execution_count": 1,
   "metadata": {},
   "outputs": [],
   "source": [
    "# pip install --upgrade mlflow"
   ]
  },
  {
   "cell_type": "code",
   "execution_count": 2,
   "metadata": {},
   "outputs": [
    {
     "name": "stdout",
     "output_type": "stream",
     "text": [
      "Requirement already satisfied: mlflow in /Users/kellyliu/anaconda3/lib/python3.11/site-packages (2.12.1)\n",
      "Requirement already satisfied: Flask<4 in /Users/kellyliu/anaconda3/lib/python3.11/site-packages (from mlflow) (2.2.2)\n",
      "Requirement already satisfied: alembic!=1.10.0,<2 in /Users/kellyliu/anaconda3/lib/python3.11/site-packages (from mlflow) (1.13.1)\n",
      "Requirement already satisfied: click<9,>=7.0 in /Users/kellyliu/anaconda3/lib/python3.11/site-packages (from mlflow) (8.0.4)\n",
      "Requirement already satisfied: cloudpickle<4 in /Users/kellyliu/anaconda3/lib/python3.11/site-packages (from mlflow) (2.2.1)\n",
      "Requirement already satisfied: docker<8,>=4.0.0 in /Users/kellyliu/anaconda3/lib/python3.11/site-packages (from mlflow) (7.0.0)\n",
      "Requirement already satisfied: entrypoints<1 in /Users/kellyliu/anaconda3/lib/python3.11/site-packages (from mlflow) (0.4)\n",
      "Requirement already satisfied: gitpython<4,>=3.1.9 in /Users/kellyliu/anaconda3/lib/python3.11/site-packages (from mlflow) (3.1.42)\n",
      "Requirement already satisfied: graphene<4 in /Users/kellyliu/anaconda3/lib/python3.11/site-packages (from mlflow) (3.3)\n",
      "Requirement already satisfied: importlib-metadata!=4.7.0,<8,>=3.7.0 in /Users/kellyliu/anaconda3/lib/python3.11/site-packages (from mlflow) (6.0.0)\n",
      "Requirement already satisfied: markdown<4,>=3.3 in /Users/kellyliu/anaconda3/lib/python3.11/site-packages (from mlflow) (3.4.1)\n",
      "Requirement already satisfied: matplotlib<4 in /Users/kellyliu/anaconda3/lib/python3.11/site-packages (from mlflow) (3.7.2)\n",
      "Requirement already satisfied: numpy<2 in /Users/kellyliu/anaconda3/lib/python3.11/site-packages (from mlflow) (1.24.4)\n",
      "Requirement already satisfied: packaging<25 in /Users/kellyliu/anaconda3/lib/python3.11/site-packages (from mlflow) (23.1)\n",
      "Requirement already satisfied: pandas<3 in /Users/kellyliu/anaconda3/lib/python3.11/site-packages (from mlflow) (2.0.3)\n",
      "Requirement already satisfied: protobuf<6,>=3.12.0 in /Users/kellyliu/anaconda3/lib/python3.11/site-packages (from mlflow) (4.25.3)\n",
      "Requirement already satisfied: pyarrow<16,>=4.0.0 in /Users/kellyliu/anaconda3/lib/python3.11/site-packages (from mlflow) (11.0.0)\n",
      "Requirement already satisfied: pytz<2025 in /Users/kellyliu/anaconda3/lib/python3.11/site-packages (from mlflow) (2023.3.post1)\n",
      "Requirement already satisfied: pyyaml<7,>=5.1 in /Users/kellyliu/anaconda3/lib/python3.11/site-packages (from mlflow) (6.0)\n",
      "Requirement already satisfied: querystring-parser<2 in /Users/kellyliu/anaconda3/lib/python3.11/site-packages (from mlflow) (1.2.4)\n",
      "Requirement already satisfied: requests<3,>=2.17.3 in /Users/kellyliu/anaconda3/lib/python3.11/site-packages (from mlflow) (2.31.0)\n",
      "Requirement already satisfied: scikit-learn<2 in /Users/kellyliu/anaconda3/lib/python3.11/site-packages (from mlflow) (1.4.1.post1)\n",
      "Requirement already satisfied: scipy<2 in /Users/kellyliu/anaconda3/lib/python3.11/site-packages (from mlflow) (1.12.0)\n",
      "Requirement already satisfied: sqlalchemy<3,>=1.4.0 in /Users/kellyliu/anaconda3/lib/python3.11/site-packages (from mlflow) (1.4.39)\n",
      "Requirement already satisfied: sqlparse<1,>=0.4.0 in /Users/kellyliu/anaconda3/lib/python3.11/site-packages (from mlflow) (0.5.0)\n",
      "Requirement already satisfied: Jinja2<4,>=2.11 in /Users/kellyliu/anaconda3/lib/python3.11/site-packages (from mlflow) (3.1.2)\n",
      "Requirement already satisfied: gunicorn<22 in /Users/kellyliu/anaconda3/lib/python3.11/site-packages (from mlflow) (21.2.0)\n",
      "Requirement already satisfied: Mako in /Users/kellyliu/anaconda3/lib/python3.11/site-packages (from alembic!=1.10.0,<2->mlflow) (1.3.3)\n",
      "Requirement already satisfied: typing-extensions>=4 in /Users/kellyliu/anaconda3/lib/python3.11/site-packages (from alembic!=1.10.0,<2->mlflow) (4.7.1)\n",
      "Requirement already satisfied: urllib3>=1.26.0 in /Users/kellyliu/anaconda3/lib/python3.11/site-packages (from docker<8,>=4.0.0->mlflow) (1.26.16)\n",
      "Requirement already satisfied: Werkzeug>=2.2.2 in /Users/kellyliu/anaconda3/lib/python3.11/site-packages (from Flask<4->mlflow) (2.2.3)\n",
      "Requirement already satisfied: itsdangerous>=2.0 in /Users/kellyliu/anaconda3/lib/python3.11/site-packages (from Flask<4->mlflow) (2.0.1)\n",
      "Requirement already satisfied: gitdb<5,>=4.0.1 in /Users/kellyliu/anaconda3/lib/python3.11/site-packages (from gitpython<4,>=3.1.9->mlflow) (4.0.11)\n",
      "Requirement already satisfied: graphql-core<3.3,>=3.1 in /Users/kellyliu/anaconda3/lib/python3.11/site-packages (from graphene<4->mlflow) (3.2.3)\n",
      "Requirement already satisfied: graphql-relay<3.3,>=3.1 in /Users/kellyliu/anaconda3/lib/python3.11/site-packages (from graphene<4->mlflow) (3.2.0)\n",
      "Requirement already satisfied: aniso8601<10,>=8 in /Users/kellyliu/anaconda3/lib/python3.11/site-packages (from graphene<4->mlflow) (9.0.1)\n",
      "Requirement already satisfied: zipp>=0.5 in /Users/kellyliu/anaconda3/lib/python3.11/site-packages (from importlib-metadata!=4.7.0,<8,>=3.7.0->mlflow) (3.11.0)\n",
      "Requirement already satisfied: MarkupSafe>=2.0 in /Users/kellyliu/anaconda3/lib/python3.11/site-packages (from Jinja2<4,>=2.11->mlflow) (2.1.1)\n",
      "Requirement already satisfied: contourpy>=1.0.1 in /Users/kellyliu/anaconda3/lib/python3.11/site-packages (from matplotlib<4->mlflow) (1.0.5)\n",
      "Requirement already satisfied: cycler>=0.10 in /Users/kellyliu/anaconda3/lib/python3.11/site-packages (from matplotlib<4->mlflow) (0.11.0)\n",
      "Requirement already satisfied: fonttools>=4.22.0 in /Users/kellyliu/anaconda3/lib/python3.11/site-packages (from matplotlib<4->mlflow) (4.25.0)\n",
      "Requirement already satisfied: kiwisolver>=1.0.1 in /Users/kellyliu/anaconda3/lib/python3.11/site-packages (from matplotlib<4->mlflow) (1.4.4)\n",
      "Requirement already satisfied: pillow>=6.2.0 in /Users/kellyliu/anaconda3/lib/python3.11/site-packages (from matplotlib<4->mlflow) (9.4.0)\n",
      "Requirement already satisfied: pyparsing<3.1,>=2.3.1 in /Users/kellyliu/anaconda3/lib/python3.11/site-packages (from matplotlib<4->mlflow) (3.0.9)\n",
      "Requirement already satisfied: python-dateutil>=2.7 in /Users/kellyliu/anaconda3/lib/python3.11/site-packages (from matplotlib<4->mlflow) (2.8.2)\n",
      "Requirement already satisfied: tzdata>=2022.1 in /Users/kellyliu/anaconda3/lib/python3.11/site-packages (from pandas<3->mlflow) (2023.3)\n",
      "Requirement already satisfied: six in /Users/kellyliu/anaconda3/lib/python3.11/site-packages (from querystring-parser<2->mlflow) (1.16.0)\n",
      "Requirement already satisfied: charset-normalizer<4,>=2 in /Users/kellyliu/anaconda3/lib/python3.11/site-packages (from requests<3,>=2.17.3->mlflow) (2.0.4)\n",
      "Requirement already satisfied: idna<4,>=2.5 in /Users/kellyliu/anaconda3/lib/python3.11/site-packages (from requests<3,>=2.17.3->mlflow) (3.4)\n",
      "Requirement already satisfied: certifi>=2017.4.17 in /Users/kellyliu/anaconda3/lib/python3.11/site-packages (from requests<3,>=2.17.3->mlflow) (2024.2.2)\n",
      "Requirement already satisfied: joblib>=1.2.0 in /Users/kellyliu/anaconda3/lib/python3.11/site-packages (from scikit-learn<2->mlflow) (1.2.0)\n",
      "Requirement already satisfied: threadpoolctl>=2.0.0 in /Users/kellyliu/anaconda3/lib/python3.11/site-packages (from scikit-learn<2->mlflow) (3.1.0)\n",
      "Requirement already satisfied: smmap<6,>=3.0.1 in /Users/kellyliu/anaconda3/lib/python3.11/site-packages (from gitdb<5,>=4.0.1->gitpython<4,>=3.1.9->mlflow) (5.0.1)\n"
     ]
    }
   ],
   "source": [
    "!pip install mlflow"
   ]
  },
  {
   "cell_type": "code",
   "execution_count": 3,
   "metadata": {},
   "outputs": [
    {
     "name": "stdout",
     "output_type": "stream",
     "text": [
      "[2024-04-24 14:28:10 -0400] [98434] [INFO] Starting gunicorn 21.2.0\n",
      "[2024-04-24 14:28:10 -0400] [98434] [INFO] Listening at: http://127.0.0.1:5000 (98434)\n",
      "[2024-04-24 14:28:10 -0400] [98434] [INFO] Using worker: sync\n",
      "[2024-04-24 14:28:10 -0400] [98435] [INFO] Booting worker with pid: 98435\n",
      "[2024-04-24 14:28:10 -0400] [98436] [INFO] Booting worker with pid: 98436\n",
      "[2024-04-24 14:28:10 -0400] [98437] [INFO] Booting worker with pid: 98437\n",
      "[2024-04-24 14:28:11 -0400] [98438] [INFO] Booting worker with pid: 98438\n",
      "Downloading artifacts: 100%|████████████████████| 1/1 [00:00<00:00, 2146.52it/s]\n",
      "Downloading artifacts: 100%|████████████████████| 1/1 [00:00<00:00, 2063.11it/s]\n",
      "Downloading artifacts: 100%|█████████████████████| 1/1 [00:00<00:00, 618.08it/s]\n",
      "Downloading artifacts: 100%|████████████████████| 1/1 [00:00<00:00, 1492.10it/s]\n",
      "Downloading artifacts: 100%|████████████████████| 1/1 [00:00<00:00, 1262.58it/s]\n",
      "Downloading artifacts: 100%|████████████████████| 1/1 [00:00<00:00, 2403.61it/s]\n",
      "Downloading artifacts: 100%|█████████████████████| 1/1 [00:00<00:00, 420.90it/s]\n",
      "Downloading artifacts: 100%|█████████████████████| 1/1 [00:00<00:00, 342.11it/s]\n",
      "Downloading artifacts: 100%|█████████████████████| 1/1 [00:00<00:00, 493.33it/s]\n",
      "Downloading artifacts: 100%|█████████████████████| 1/1 [00:00<00:00, 772.72it/s]\n",
      "Downloading artifacts: 100%|█████████████████████| 1/1 [00:00<00:00, 475.71it/s]\n",
      "Downloading artifacts: 100%|█████████████████████| 1/1 [00:00<00:00, 451.00it/s]\n",
      "Downloading artifacts: 100%|████████████████████| 1/1 [00:00<00:00, 1125.99it/s]\n",
      "Downloading artifacts: 100%|████████████████████| 1/1 [00:00<00:00, 1305.01it/s]\n",
      "Downloading artifacts: 100%|████████████████████| 1/1 [00:00<00:00, 1376.99it/s]\n",
      "Downloading artifacts: 100%|█████████████████████| 1/1 [00:00<00:00, 541.13it/s]\n",
      "Downloading artifacts: 100%|████████████████████| 1/1 [00:00<00:00, 1033.08it/s]\n",
      "Downloading artifacts: 100%|██████████████████████| 1/1 [00:00<00:00, 56.52it/s]\n",
      "Downloading artifacts: 100%|████████████████████| 1/1 [00:00<00:00, 1064.81it/s]\n",
      "Downloading artifacts: 100%|█████████████████████| 1/1 [00:00<00:00, 472.54it/s]\n",
      "Downloading artifacts: 100%|█████████████████████| 1/1 [00:00<00:00, 821.77it/s]\n",
      "Downloading artifacts: 100%|█████████████████████| 1/1 [00:00<00:00, 590.33it/s]\n",
      "Downloading artifacts: 100%|████████████████████| 1/1 [00:00<00:00, 1626.33it/s]\n",
      "Downloading artifacts: 100%|████████████████████| 1/1 [00:00<00:00, 1120.87it/s]\n",
      "Downloading artifacts: 100%|█████████████████████| 1/1 [00:00<00:00, 909.04it/s]\n",
      "Downloading artifacts: 100%|████████████████████| 1/1 [00:00<00:00, 1447.31it/s]\n",
      "Downloading artifacts: 100%|█████████████████████| 1/1 [00:00<00:00, 720.92it/s]\n",
      "Downloading artifacts: 100%|████████████████████| 1/1 [00:00<00:00, 1362.23it/s]\n",
      "Downloading artifacts: 100%|█████████████████████| 1/1 [00:00<00:00, 750.86it/s]\n",
      "Downloading artifacts: 100%|█████████████████████| 1/1 [00:00<00:00, 649.88it/s]\n",
      "Downloading artifacts: 100%|█████████████████████| 1/1 [00:00<00:00, 242.12it/s]\n",
      "Downloading artifacts: 100%|█████████████████████| 1/1 [00:00<00:00, 492.40it/s]\n",
      "Downloading artifacts: 100%|█████████████████████| 1/1 [00:00<00:00, 449.21it/s]\n",
      "Downloading artifacts: 100%|█████████████████████| 1/1 [00:00<00:00, 862.85it/s]\n",
      "Downloading artifacts: 100%|█████████████████████| 1/1 [00:00<00:00, 568.49it/s]\n",
      "Downloading artifacts: 100%|████████████████████| 1/1 [00:00<00:00, 1276.80it/s]\n",
      "Downloading artifacts: 100%|█████████████████████| 1/1 [00:00<00:00, 585.14it/s]\n",
      "Downloading artifacts: 100%|█████████████████████| 1/1 [00:00<00:00, 228.42it/s]\n",
      "Downloading artifacts: 100%|█████████████████████| 1/1 [00:00<00:00, 343.04it/s]\n",
      "Downloading artifacts: 100%|█████████████████████| 1/1 [00:00<00:00, 525.27it/s]\n"
     ]
    }
   ],
   "source": [
    "!mlflow ui\n"
   ]
  }
 ],
 "metadata": {
  "kernelspec": {
   "display_name": "base",
   "language": "python",
   "name": "python3"
  },
  "language_info": {
   "codemirror_mode": {
    "name": "ipython",
    "version": 3
   },
   "file_extension": ".py",
   "mimetype": "text/x-python",
   "name": "python",
   "nbconvert_exporter": "python",
   "pygments_lexer": "ipython3",
   "version": "3.11.5"
  }
 },
 "nbformat": 4,
 "nbformat_minor": 2
}
