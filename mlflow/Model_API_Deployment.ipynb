{
 "cells": [
  {
   "cell_type": "code",
   "execution_count": 0,
   "metadata": {
    "application/vnd.databricks.v1+cell": {
     "cellMetadata": {
      "byteLimit": 2048000,
      "rowLimit": 10000
     },
     "inputWidgets": {},
     "nuid": "8d818fdc-0926-4828-a2b2-7f43f579bddf",
     "showTitle": false,
     "title": ""
    }
   },
   "outputs": [
    {
     "output_type": "execute_result",
     "data": {
      "text/plain": [
       "True"
      ]
     },
     "execution_count": 1,
     "metadata": {},
     "output_type": "execute_result"
    }
   ],
   "source": [
    "# Required Libraries\n",
    "import urllib\n",
    "\n",
    "# Define the connection parameters\n",
    "storage_account_name = \"storagetian1\"\n",
    "storage_account_access_key = \"FAyGeu19tPSugWi82UOSvrkavoOWI0lpRug9KETQOqWgAx4PgBU9ilWWKziwqO4Yd7GKNpmrRVY6+ASt4MVTsw==\"\n",
    "container_name = \"test1\"\n",
    "mount_point = \"/mnt/mnttest2\"\n",
    "\n",
    "# Encode the secret key\n",
    "encoded_secret_key = urllib.parse.quote(storage_account_access_key, \"\")\n",
    "\n",
    "# DBFS (Databricks File System) command to mount the storage\n",
    "dbutils.fs.mount(\n",
    "    source = f\"wasbs://{container_name}@{storage_account_name}.blob.core.windows.net/\",\n",
    "    mount_point = mount_point,\n",
    "    extra_configs = {f\"fs.azure.account.key.{storage_account_name}.blob.core.windows.net\": storage_account_access_key})"
   ]
  },
  {
   "cell_type": "code",
   "execution_count": 0,
   "metadata": {
    "application/vnd.databricks.v1+cell": {
     "cellMetadata": {
      "byteLimit": 2048000,
      "rowLimit": 10000
     },
     "inputWidgets": {},
     "nuid": "5d04c574-324d-4b32-a369-ded193972822",
     "showTitle": false,
     "title": ""
    }
   },
   "outputs": [
    {
     "output_type": "display_data",
     "data": {
      "text/html": [
       "<style scoped>\n",
       "  .table-result-container {\n",
       "    max-height: 300px;\n",
       "    overflow: auto;\n",
       "  }\n",
       "  table, th, td {\n",
       "    border: 1px solid black;\n",
       "    border-collapse: collapse;\n",
       "  }\n",
       "  th, td {\n",
       "    padding: 5px;\n",
       "  }\n",
       "  th {\n",
       "    text-align: left;\n",
       "  }\n",
       "</style><div class='table-result-container'><table class='table-result'><thead style='background-color: white'><tr><th>path</th><th>name</th><th>size</th><th>modificationTime</th></tr></thead><tbody><tr><td>dbfs:/mnt/mnttest1/Final Preprocessed Data.csv</td><td>Final Preprocessed Data.csv</td><td>508555</td><td>1713926295000</td></tr><tr><td>dbfs:/mnt/mnttest1/New Global YouTube Statistics.csv</td><td>New Global YouTube Statistics.csv</td><td>142368</td><td>1713834437000</td></tr><tr><td>dbfs:/mnt/mnttest1/New Global YouTube Statistics.txt</td><td>New Global YouTube Statistics.txt</td><td>181080</td><td>1713905309000</td></tr></tbody></table></div>"
      ]
     },
     "metadata": {
      "application/vnd.databricks.v1+output": {
       "addedWidgets": {},
       "aggData": [],
       "aggError": "",
       "aggOverflow": false,
       "aggSchema": [],
       "aggSeriesLimitReached": false,
       "aggType": "",
       "arguments": {},
       "columnCustomDisplayInfos": {},
       "data": [
        [
         "dbfs:/mnt/mnttest1/Final Preprocessed Data.csv",
         "Final Preprocessed Data.csv",
         508555,
         1713926295000
        ],
        [
         "dbfs:/mnt/mnttest1/New Global YouTube Statistics.csv",
         "New Global YouTube Statistics.csv",
         142368,
         1713834437000
        ],
        [
         "dbfs:/mnt/mnttest1/New Global YouTube Statistics.txt",
         "New Global YouTube Statistics.txt",
         181080,
         1713905309000
        ]
       ],
       "datasetInfos": [],
       "dbfsResultPath": null,
       "isJsonSchema": true,
       "metadata": {},
       "overflow": false,
       "plotOptions": {
        "customPlotOptions": {},
        "displayType": "table",
        "pivotAggregation": null,
        "pivotColumns": null,
        "xColumns": null,
        "yColumns": null
       },
       "removedWidgets": [],
       "schema": [
        {
         "metadata": "{}",
         "name": "path",
         "type": "\"string\""
        },
        {
         "metadata": "{}",
         "name": "name",
         "type": "\"string\""
        },
        {
         "metadata": "{}",
         "name": "size",
         "type": "\"long\""
        },
        {
         "metadata": "{}",
         "name": "modificationTime",
         "type": "\"long\""
        }
       ],
       "type": "table"
      }
     },
     "output_type": "display_data"
    },
    {
     "output_type": "display_data",
     "data": {
      "text/html": [
       "<style scoped>\n",
       "  .table-result-container {\n",
       "    max-height: 300px;\n",
       "    overflow: auto;\n",
       "  }\n",
       "  table, th, td {\n",
       "    border: 1px solid black;\n",
       "    border-collapse: collapse;\n",
       "  }\n",
       "  th, td {\n",
       "    padding: 5px;\n",
       "  }\n",
       "  th {\n",
       "    text-align: left;\n",
       "  }\n",
       "</style><div class='table-result-container'><table class='table-result'><thead style='background-color: white'><tr><th>ID</th><th>Year_Birth</th><th>Income</th><th>Kidhome</th><th>Teenhome</th><th>Recency</th><th>MntWines</th><th>MntFruits</th><th>MntMeatProducts</th><th>MntFishProducts</th><th>MntSweetProducts</th><th>MntGoldProds</th><th>NumDealsPurchases</th><th>NumWebPurchases</th><th>NumCatalogPurchases</th><th>NumStorePurchases</th><th>NumWebVisitsMonth</th><th>AcceptedCmp3</th><th>AcceptedCmp4</th><th>AcceptedCmp5</th><th>AcceptedCmp1</th><th>AcceptedCmp2</th><th>Complain</th><th>Response</th><th>Enroll_Year</th><th>Enroll_Month</th><th>Enroll_Day</th><th>Member_Year</th><th>Age</th><th>Total_amount</th><th>Total_purchase</th><th>Total_Children</th><th>Is_Parent</th><th>Family_Size</th><th>Cmp_Attitude</th><th>R</th><th>F</th><th>M</th><th>RFM_Group_About To Sleep</th><th>RFM_Group_At Risk</th><th>RFM_Group_Hibernating</th><th>RFM_Group_Loyalist</th><th>RFM_Group_Need Attention</th><th>RFM_Group_New Customers</th><th>RFM_Group_Potential Loyalist</th><th>RFM_Group_Promising</th><th>Age_Demographic_Baby Boomer</th><th>Age_Demographic_Gen X</th><th>Age_Demographic_Gen Y</th><th>Income_Category_High</th><th>Income_Category_Low</th><th>Income_Category_Medium</th><th>Education_Basic</th><th>Education_Graduation</th><th>Education_Master</th><th>Education_PhD</th><th>Marital_Status_Alone</th><th>Marital_Status_Divorced</th><th>Marital_Status_Married</th><th>Marital_Status_Single</th><th>Marital_Status_Together</th><th>Marital_Status_Widow</th><th>Marital_Status_YOLO</th></tr></thead><tbody><tr><td>5524</td><td>1957</td><td>58138.0</td><td>0</td><td>0</td><td>58</td><td>635</td><td>88</td><td>546</td><td>172</td><td>88</td><td>88</td><td>3</td><td>8</td><td>10</td><td>4</td><td>7</td><td>0</td><td>0</td><td>0</td><td>0</td><td>0</td><td>0</td><td>1</td><td>2012</td><td>9</td><td>4</td><td>4</td><td>59</td><td>1617</td><td>22</td><td>0</td><td>0</td><td>1</td><td>0</td><td>0</td><td>1</td><td>1</td><td>false</td><td>false</td><td>false</td><td>false</td><td>false</td><td>false</td><td>true</td><td>false</td><td>true</td><td>false</td><td>false</td><td>true</td><td>false</td><td>false</td><td>0.0</td><td>1.0</td><td>0.0</td><td>0.0</td><td>0.0</td><td>0.0</td><td>0.0</td><td>1.0</td><td>0.0</td><td>0.0</td><td>0.0</td></tr><tr><td>2174</td><td>1954</td><td>46344.0</td><td>1</td><td>1</td><td>38</td><td>11</td><td>1</td><td>6</td><td>2</td><td>1</td><td>6</td><td>2</td><td>1</td><td>1</td><td>2</td><td>5</td><td>0</td><td>0</td><td>0</td><td>0</td><td>0</td><td>0</td><td>0</td><td>2014</td><td>3</td><td>8</td><td>2</td><td>62</td><td>27</td><td>4</td><td>2</td><td>1</td><td>3</td><td>0</td><td>1</td><td>0</td><td>0</td><td>true</td><td>false</td><td>false</td><td>false</td><td>false</td><td>false</td><td>false</td><td>false</td><td>true</td><td>false</td><td>false</td><td>true</td><td>false</td><td>false</td><td>0.0</td><td>1.0</td><td>0.0</td><td>0.0</td><td>0.0</td><td>0.0</td><td>0.0</td><td>1.0</td><td>0.0</td><td>0.0</td><td>0.0</td></tr><tr><td>4141</td><td>1965</td><td>71613.0</td><td>0</td><td>0</td><td>26</td><td>426</td><td>49</td><td>127</td><td>111</td><td>21</td><td>42</td><td>1</td><td>8</td><td>2</td><td>10</td><td>4</td><td>0</td><td>0</td><td>0</td><td>0</td><td>0</td><td>0</td><td>0</td><td>2013</td><td>8</td><td>21</td><td>3</td><td>51</td><td>776</td><td>20</td><td>0</td><td>0</td><td>2</td><td>0</td><td>1</td><td>1</td><td>1</td><td>false</td><td>false</td><td>false</td><td>true</td><td>false</td><td>false</td><td>false</td><td>false</td><td>false</td><td>true</td><td>false</td><td>true</td><td>false</td><td>false</td><td>0.0</td><td>1.0</td><td>0.0</td><td>0.0</td><td>0.0</td><td>0.0</td><td>0.0</td><td>0.0</td><td>1.0</td><td>0.0</td><td>0.0</td></tr><tr><td>6182</td><td>1984</td><td>26646.0</td><td>1</td><td>0</td><td>26</td><td>11</td><td>4</td><td>20</td><td>10</td><td>3</td><td>5</td><td>2</td><td>2</td><td>0</td><td>4</td><td>6</td><td>0</td><td>0</td><td>0</td><td>0</td><td>0</td><td>0</td><td>0</td><td>2014</td><td>2</td><td>10</td><td>2</td><td>32</td><td>53</td><td>6</td><td>1</td><td>1</td><td>3</td><td>0</td><td>1</td><td>0</td><td>0</td><td>true</td><td>false</td><td>false</td><td>false</td><td>false</td><td>false</td><td>false</td><td>false</td><td>false</td><td>false</td><td>true</td><td>true</td><td>false</td><td>false</td><td>0.0</td><td>1.0</td><td>0.0</td><td>0.0</td><td>0.0</td><td>0.0</td><td>0.0</td><td>0.0</td><td>1.0</td><td>0.0</td><td>0.0</td></tr><tr><td>5324</td><td>1981</td><td>58293.0</td><td>1</td><td>0</td><td>94</td><td>173</td><td>43</td><td>118</td><td>46</td><td>27</td><td>15</td><td>5</td><td>5</td><td>3</td><td>6</td><td>5</td><td>0</td><td>0</td><td>0</td><td>0</td><td>0</td><td>0</td><td>0</td><td>2014</td><td>1</td><td>19</td><td>2</td><td>35</td><td>422</td><td>14</td><td>1</td><td>1</td><td>3</td><td>0</td><td>0</td><td>1</td><td>1</td><td>false</td><td>false</td><td>false</td><td>false</td><td>false</td><td>false</td><td>true</td><td>false</td><td>false</td><td>false</td><td>true</td><td>true</td><td>false</td><td>false</td><td>0.0</td><td>0.0</td><td>0.0</td><td>1.0</td><td>0.0</td><td>0.0</td><td>1.0</td><td>0.0</td><td>0.0</td><td>0.0</td><td>0.0</td></tr></tbody></table></div>"
      ]
     },
     "metadata": {
      "application/vnd.databricks.v1+output": {
       "addedWidgets": {},
       "aggData": [],
       "aggError": "",
       "aggOverflow": false,
       "aggSchema": [],
       "aggSeriesLimitReached": false,
       "aggType": "",
       "arguments": {},
       "columnCustomDisplayInfos": {},
       "data": [
        [
         5524,
         1957,
         58138.0,
         0,
         0,
         58,
         635,
         88,
         546,
         172,
         88,
         88,
         3,
         8,
         10,
         4,
         7,
         0,
         0,
         0,
         0,
         0,
         0,
         1,
         2012,
         9,
         4,
         4,
         59,
         1617,
         22,
         0,
         0,
         1,
         0,
         0,
         1,
         1,
         false,
         false,
         false,
         false,
         false,
         false,
         true,
         false,
         true,
         false,
         false,
         true,
         false,
         false,
         0.0,
         1.0,
         0.0,
         0.0,
         0.0,
         0.0,
         0.0,
         1.0,
         0.0,
         0.0,
         0.0
        ],
        [
         2174,
         1954,
         46344.0,
         1,
         1,
         38,
         11,
         1,
         6,
         2,
         1,
         6,
         2,
         1,
         1,
         2,
         5,
         0,
         0,
         0,
         0,
         0,
         0,
         0,
         2014,
         3,
         8,
         2,
         62,
         27,
         4,
         2,
         1,
         3,
         0,
         1,
         0,
         0,
         true,
         false,
         false,
         false,
         false,
         false,
         false,
         false,
         true,
         false,
         false,
         true,
         false,
         false,
         0.0,
         1.0,
         0.0,
         0.0,
         0.0,
         0.0,
         0.0,
         1.0,
         0.0,
         0.0,
         0.0
        ],
        [
         4141,
         1965,
         71613.0,
         0,
         0,
         26,
         426,
         49,
         127,
         111,
         21,
         42,
         1,
         8,
         2,
         10,
         4,
         0,
         0,
         0,
         0,
         0,
         0,
         0,
         2013,
         8,
         21,
         3,
         51,
         776,
         20,
         0,
         0,
         2,
         0,
         1,
         1,
         1,
         false,
         false,
         false,
         true,
         false,
         false,
         false,
         false,
         false,
         true,
         false,
         true,
         false,
         false,
         0.0,
         1.0,
         0.0,
         0.0,
         0.0,
         0.0,
         0.0,
         0.0,
         1.0,
         0.0,
         0.0
        ],
        [
         6182,
         1984,
         26646.0,
         1,
         0,
         26,
         11,
         4,
         20,
         10,
         3,
         5,
         2,
         2,
         0,
         4,
         6,
         0,
         0,
         0,
         0,
         0,
         0,
         0,
         2014,
         2,
         10,
         2,
         32,
         53,
         6,
         1,
         1,
         3,
         0,
         1,
         0,
         0,
         true,
         false,
         false,
         false,
         false,
         false,
         false,
         false,
         false,
         false,
         true,
         true,
         false,
         false,
         0.0,
         1.0,
         0.0,
         0.0,
         0.0,
         0.0,
         0.0,
         0.0,
         1.0,
         0.0,
         0.0
        ],
        [
         5324,
         1981,
         58293.0,
         1,
         0,
         94,
         173,
         43,
         118,
         46,
         27,
         15,
         5,
         5,
         3,
         6,
         5,
         0,
         0,
         0,
         0,
         0,
         0,
         0,
         2014,
         1,
         19,
         2,
         35,
         422,
         14,
         1,
         1,
         3,
         0,
         0,
         1,
         1,
         false,
         false,
         false,
         false,
         false,
         false,
         true,
         false,
         false,
         false,
         true,
         true,
         false,
         false,
         0.0,
         0.0,
         0.0,
         1.0,
         0.0,
         0.0,
         1.0,
         0.0,
         0.0,
         0.0,
         0.0
        ]
       ],
       "datasetInfos": [],
       "dbfsResultPath": null,
       "isJsonSchema": true,
       "metadata": {},
       "overflow": false,
       "plotOptions": {
        "customPlotOptions": {},
        "displayType": "table",
        "pivotAggregation": null,
        "pivotColumns": null,
        "xColumns": null,
        "yColumns": null
       },
       "removedWidgets": [],
       "schema": [
        {
         "metadata": "{}",
         "name": "ID",
         "type": "\"long\""
        },
        {
         "metadata": "{}",
         "name": "Year_Birth",
         "type": "\"long\""
        },
        {
         "metadata": "{}",
         "name": "Income",
         "type": "\"double\""
        },
        {
         "metadata": "{}",
         "name": "Kidhome",
         "type": "\"long\""
        },
        {
         "metadata": "{}",
         "name": "Teenhome",
         "type": "\"long\""
        },
        {
         "metadata": "{}",
         "name": "Recency",
         "type": "\"long\""
        },
        {
         "metadata": "{}",
         "name": "MntWines",
         "type": "\"long\""
        },
        {
         "metadata": "{}",
         "name": "MntFruits",
         "type": "\"long\""
        },
        {
         "metadata": "{}",
         "name": "MntMeatProducts",
         "type": "\"long\""
        },
        {
         "metadata": "{}",
         "name": "MntFishProducts",
         "type": "\"long\""
        },
        {
         "metadata": "{}",
         "name": "MntSweetProducts",
         "type": "\"long\""
        },
        {
         "metadata": "{}",
         "name": "MntGoldProds",
         "type": "\"long\""
        },
        {
         "metadata": "{}",
         "name": "NumDealsPurchases",
         "type": "\"long\""
        },
        {
         "metadata": "{}",
         "name": "NumWebPurchases",
         "type": "\"long\""
        },
        {
         "metadata": "{}",
         "name": "NumCatalogPurchases",
         "type": "\"long\""
        },
        {
         "metadata": "{}",
         "name": "NumStorePurchases",
         "type": "\"long\""
        },
        {
         "metadata": "{}",
         "name": "NumWebVisitsMonth",
         "type": "\"long\""
        },
        {
         "metadata": "{}",
         "name": "AcceptedCmp3",
         "type": "\"long\""
        },
        {
         "metadata": "{}",
         "name": "AcceptedCmp4",
         "type": "\"long\""
        },
        {
         "metadata": "{}",
         "name": "AcceptedCmp5",
         "type": "\"long\""
        },
        {
         "metadata": "{}",
         "name": "AcceptedCmp1",
         "type": "\"long\""
        },
        {
         "metadata": "{}",
         "name": "AcceptedCmp2",
         "type": "\"long\""
        },
        {
         "metadata": "{}",
         "name": "Complain",
         "type": "\"long\""
        },
        {
         "metadata": "{}",
         "name": "Response",
         "type": "\"long\""
        },
        {
         "metadata": "{}",
         "name": "Enroll_Year",
         "type": "\"long\""
        },
        {
         "metadata": "{}",
         "name": "Enroll_Month",
         "type": "\"long\""
        },
        {
         "metadata": "{}",
         "name": "Enroll_Day",
         "type": "\"long\""
        },
        {
         "metadata": "{}",
         "name": "Member_Year",
         "type": "\"long\""
        },
        {
         "metadata": "{}",
         "name": "Age",
         "type": "\"long\""
        },
        {
         "metadata": "{}",
         "name": "Total_amount",
         "type": "\"long\""
        },
        {
         "metadata": "{}",
         "name": "Total_purchase",
         "type": "\"long\""
        },
        {
         "metadata": "{}",
         "name": "Total_Children",
         "type": "\"long\""
        },
        {
         "metadata": "{}",
         "name": "Is_Parent",
         "type": "\"long\""
        },
        {
         "metadata": "{}",
         "name": "Family_Size",
         "type": "\"long\""
        },
        {
         "metadata": "{}",
         "name": "Cmp_Attitude",
         "type": "\"long\""
        },
        {
         "metadata": "{}",
         "name": "R",
         "type": "\"long\""
        },
        {
         "metadata": "{}",
         "name": "F",
         "type": "\"long\""
        },
        {
         "metadata": "{}",
         "name": "M",
         "type": "\"long\""
        },
        {
         "metadata": "{}",
         "name": "RFM_Group_About To Sleep",
         "type": "\"boolean\""
        },
        {
         "metadata": "{}",
         "name": "RFM_Group_At Risk",
         "type": "\"boolean\""
        },
        {
         "metadata": "{}",
         "name": "RFM_Group_Hibernating",
         "type": "\"boolean\""
        },
        {
         "metadata": "{}",
         "name": "RFM_Group_Loyalist",
         "type": "\"boolean\""
        },
        {
         "metadata": "{}",
         "name": "RFM_Group_Need Attention",
         "type": "\"boolean\""
        },
        {
         "metadata": "{}",
         "name": "RFM_Group_New Customers",
         "type": "\"boolean\""
        },
        {
         "metadata": "{}",
         "name": "RFM_Group_Potential Loyalist",
         "type": "\"boolean\""
        },
        {
         "metadata": "{}",
         "name": "RFM_Group_Promising",
         "type": "\"boolean\""
        },
        {
         "metadata": "{}",
         "name": "Age_Demographic_Baby Boomer",
         "type": "\"boolean\""
        },
        {
         "metadata": "{}",
         "name": "Age_Demographic_Gen X",
         "type": "\"boolean\""
        },
        {
         "metadata": "{}",
         "name": "Age_Demographic_Gen Y",
         "type": "\"boolean\""
        },
        {
         "metadata": "{}",
         "name": "Income_Category_High",
         "type": "\"boolean\""
        },
        {
         "metadata": "{}",
         "name": "Income_Category_Low",
         "type": "\"boolean\""
        },
        {
         "metadata": "{}",
         "name": "Income_Category_Medium",
         "type": "\"boolean\""
        },
        {
         "metadata": "{}",
         "name": "Education_Basic",
         "type": "\"double\""
        },
        {
         "metadata": "{}",
         "name": "Education_Graduation",
         "type": "\"double\""
        },
        {
         "metadata": "{}",
         "name": "Education_Master",
         "type": "\"double\""
        },
        {
         "metadata": "{}",
         "name": "Education_PhD",
         "type": "\"double\""
        },
        {
         "metadata": "{}",
         "name": "Marital_Status_Alone",
         "type": "\"double\""
        },
        {
         "metadata": "{}",
         "name": "Marital_Status_Divorced",
         "type": "\"double\""
        },
        {
         "metadata": "{}",
         "name": "Marital_Status_Married",
         "type": "\"double\""
        },
        {
         "metadata": "{}",
         "name": "Marital_Status_Single",
         "type": "\"double\""
        },
        {
         "metadata": "{}",
         "name": "Marital_Status_Together",
         "type": "\"double\""
        },
        {
         "metadata": "{}",
         "name": "Marital_Status_Widow",
         "type": "\"double\""
        },
        {
         "metadata": "{}",
         "name": "Marital_Status_YOLO",
         "type": "\"double\""
        }
       ],
       "type": "table"
      }
     },
     "output_type": "display_data"
    }
   ],
   "source": [
    "# Importing necessary libraries\n",
    "import pandas as pd\n",
    "import seaborn as sns\n",
    "import matplotlib.pyplot as plt\n",
    "display(dbutils.fs.ls(\"/mnt/mnttest1\"))\n",
    "file_path = \"/dbfs/mnt/mnttest2/Final Preprocessed Data.csv\"\n",
    "df = pd.read_csv(file_path)\n",
    "display(df.head())"
   ]
  },
  {
   "cell_type": "code",
   "execution_count": 0,
   "metadata": {
    "application/vnd.databricks.v1+cell": {
     "cellMetadata": {
      "byteLimit": 2048000,
      "rowLimit": 10000
     },
     "inputWidgets": {},
     "nuid": "0d1092bb-6ece-49d1-953f-8c5919e98f76",
     "showTitle": false,
     "title": ""
    }
   },
   "outputs": [
    {
     "output_type": "stream",
     "name": "stdout",
     "output_type": "stream",
     "text": [
      "\u001B[43mNote: you may need to restart the kernel using dbutils.library.restartPython() to use updated packages.\u001B[0m\nRequirement already satisfied: causalml in /local_disk0/.ephemeral_nfs/envs/pythonEnv-4446c6cf-a569-4706-9ca1-63df8c4f6ea2/lib/python3.11/site-packages (0.15.1)\nRequirement already satisfied: dill in /databricks/python3/lib/python3.11/site-packages (from causalml) (0.3.6)\nRequirement already satisfied: pandas>=0.24.1 in /databricks/python3/lib/python3.11/site-packages (from causalml) (2.0.3)\nRequirement already satisfied: pip>=10.0 in /local_disk0/.ephemeral_nfs/envs/pythonEnv-4446c6cf-a569-4706-9ca1-63df8c4f6ea2/lib/python3.11/site-packages (from causalml) (23.0.1)\nRequirement already satisfied: tqdm in /databricks/python3/lib/python3.11/site-packages (from causalml) (4.65.0)\nRequirement already satisfied: graphviz in /local_disk0/.ephemeral_nfs/envs/pythonEnv-4446c6cf-a569-4706-9ca1-63df8c4f6ea2/lib/python3.11/site-packages (from causalml) (0.20.3)\nRequirement already satisfied: pygam in /local_disk0/.ephemeral_nfs/envs/pythonEnv-4446c6cf-a569-4706-9ca1-63df8c4f6ea2/lib/python3.11/site-packages (from causalml) (0.9.1)\nRequirement already satisfied: forestci==0.6 in /local_disk0/.ephemeral_nfs/envs/pythonEnv-4446c6cf-a569-4706-9ca1-63df8c4f6ea2/lib/python3.11/site-packages (from causalml) (0.6)\nRequirement already satisfied: matplotlib in /databricks/python3/lib/python3.11/site-packages (from causalml) (3.7.2)\nRequirement already satisfied: lightgbm in /databricks/python3/lib/python3.11/site-packages (from causalml) (4.2.0)\nRequirement already satisfied: Cython<=0.29.34 in /databricks/python3/lib/python3.11/site-packages (from causalml) (0.29.32)\nRequirement already satisfied: scikit-learn>=0.22.0 in /databricks/python3/lib/python3.11/site-packages (from causalml) (1.3.0)\nRequirement already satisfied: pydotplus in /local_disk0/.ephemeral_nfs/envs/pythonEnv-4446c6cf-a569-4706-9ca1-63df8c4f6ea2/lib/python3.11/site-packages (from causalml) (2.0.2)\nRequirement already satisfied: pathos==0.2.9 in /local_disk0/.ephemeral_nfs/envs/pythonEnv-4446c6cf-a569-4706-9ca1-63df8c4f6ea2/lib/python3.11/site-packages (from causalml) (0.2.9)\nRequirement already satisfied: torch in /databricks/python3/lib/python3.11/site-packages (from causalml) (2.1.2+cpu)\nRequirement already satisfied: seaborn in /databricks/python3/lib/python3.11/site-packages (from causalml) (0.12.2)\nRequirement already satisfied: statsmodels>=0.9.0 in /databricks/python3/lib/python3.11/site-packages (from causalml) (0.14.0)\nRequirement already satisfied: scipy>=1.4.1 in /databricks/python3/lib/python3.11/site-packages (from causalml) (1.11.1)\nRequirement already satisfied: xgboost in /databricks/python3/lib/python3.11/site-packages (from causalml) (2.0.3)\nRequirement already satisfied: packaging in /databricks/python3/lib/python3.11/site-packages (from causalml) (23.2)\nRequirement already satisfied: pyro-ppl in /local_disk0/.ephemeral_nfs/envs/pythonEnv-4446c6cf-a569-4706-9ca1-63df8c4f6ea2/lib/python3.11/site-packages (from causalml) (1.9.0)\nRequirement already satisfied: numpy>=1.18.5 in /local_disk0/.ephemeral_nfs/envs/pythonEnv-4446c6cf-a569-4706-9ca1-63df8c4f6ea2/lib/python3.11/site-packages (from causalml) (1.26.4)\nRequirement already satisfied: shap in /databricks/python3/lib/python3.11/site-packages (from causalml) (0.44.0)\nRequirement already satisfied: ppft>=1.7.6.5 in /local_disk0/.ephemeral_nfs/envs/pythonEnv-4446c6cf-a569-4706-9ca1-63df8c4f6ea2/lib/python3.11/site-packages (from pathos==0.2.9->causalml) (1.7.6.8)\nRequirement already satisfied: multiprocess>=0.70.13 in /databricks/python3/lib/python3.11/site-packages (from pathos==0.2.9->causalml) (0.70.14)\nRequirement already satisfied: pox>=0.3.1 in /local_disk0/.ephemeral_nfs/envs/pythonEnv-4446c6cf-a569-4706-9ca1-63df8c4f6ea2/lib/python3.11/site-packages (from pathos==0.2.9->causalml) (0.3.4)\nRequirement already satisfied: python-dateutil>=2.8.2 in /databricks/python3/lib/python3.11/site-packages (from pandas>=0.24.1->causalml) (2.8.2)\nRequirement already satisfied: pytz>=2020.1 in /databricks/python3/lib/python3.11/site-packages (from pandas>=0.24.1->causalml) (2022.7)\nRequirement already satisfied: tzdata>=2022.1 in /databricks/python3/lib/python3.11/site-packages (from pandas>=0.24.1->causalml) (2022.1)\nRequirement already satisfied: joblib>=1.1.1 in /databricks/python3/lib/python3.11/site-packages (from scikit-learn>=0.22.0->causalml) (1.2.0)\nRequirement already satisfied: threadpoolctl>=2.0.0 in /databricks/python3/lib/python3.11/site-packages (from scikit-learn>=0.22.0->causalml) (2.2.0)\nRequirement already satisfied: patsy>=0.5.2 in /databricks/python3/lib/python3.11/site-packages (from statsmodels>=0.9.0->causalml) (0.5.3)\nRequirement already satisfied: cycler>=0.10 in /databricks/python3/lib/python3.11/site-packages (from matplotlib->causalml) (0.11.0)\nRequirement already satisfied: pyparsing<3.1,>=2.3.1 in /databricks/python3/lib/python3.11/site-packages (from matplotlib->causalml) (3.0.9)\nRequirement already satisfied: kiwisolver>=1.0.1 in /databricks/python3/lib/python3.11/site-packages (from matplotlib->causalml) (1.4.4)\nRequirement already satisfied: contourpy>=1.0.1 in /databricks/python3/lib/python3.11/site-packages (from matplotlib->causalml) (1.0.5)\nRequirement already satisfied: pillow>=6.2.0 in /databricks/python3/lib/python3.11/site-packages (from matplotlib->causalml) (9.4.0)\nRequirement already satisfied: fonttools>=4.22.0 in /databricks/python3/lib/python3.11/site-packages (from matplotlib->causalml) (4.25.0)\nRequirement already satisfied: progressbar2<5.0.0,>=4.2.0 in /local_disk0/.ephemeral_nfs/envs/pythonEnv-4446c6cf-a569-4706-9ca1-63df8c4f6ea2/lib/python3.11/site-packages (from pygam->causalml) (4.4.2)\nRequirement already satisfied: pyro-api>=0.1.1 in /local_disk0/.ephemeral_nfs/envs/pythonEnv-4446c6cf-a569-4706-9ca1-63df8c4f6ea2/lib/python3.11/site-packages (from pyro-ppl->causalml) (0.1.2)\nRequirement already satisfied: opt-einsum>=2.3.2 in /databricks/python3/lib/python3.11/site-packages (from pyro-ppl->causalml) (3.3.0)\nRequirement already satisfied: filelock in /databricks/python3/lib/python3.11/site-packages (from torch->causalml) (3.9.0)\nRequirement already satisfied: sympy in /databricks/python3/lib/python3.11/site-packages (from torch->causalml) (1.11.1)\nRequirement already satisfied: fsspec in /databricks/python3/lib/python3.11/site-packages (from torch->causalml) (2023.5.0)\nRequirement already satisfied: jinja2 in /databricks/python3/lib/python3.11/site-packages (from torch->causalml) (3.1.2)\nRequirement already satisfied: typing-extensions in /databricks/python3/lib/python3.11/site-packages (from torch->causalml) (4.7.1)\nRequirement already satisfied: networkx in /databricks/python3/lib/python3.11/site-packages (from torch->causalml) (3.1)\nRequirement already satisfied: slicer==0.0.7 in /databricks/python3/lib/python3.11/site-packages (from shap->causalml) (0.0.7)\nRequirement already satisfied: numba in /local_disk0/.ephemeral_nfs/envs/pythonEnv-4446c6cf-a569-4706-9ca1-63df8c4f6ea2/lib/python3.11/site-packages (from shap->causalml) (0.59.1)\nRequirement already satisfied: cloudpickle in /databricks/python3/lib/python3.11/site-packages (from shap->causalml) (2.2.1)\nRequirement already satisfied: six in /usr/lib/python3/dist-packages (from patsy>=0.5.2->statsmodels>=0.9.0->causalml) (1.16.0)\nRequirement already satisfied: python-utils>=3.8.1 in /local_disk0/.ephemeral_nfs/envs/pythonEnv-4446c6cf-a569-4706-9ca1-63df8c4f6ea2/lib/python3.11/site-packages (from progressbar2<5.0.0,>=4.2.0->pygam->causalml) (3.8.2)\nRequirement already satisfied: MarkupSafe>=2.0 in /databricks/python3/lib/python3.11/site-packages (from jinja2->torch->causalml) (2.1.1)\nRequirement already satisfied: llvmlite<0.43,>=0.42.0dev0 in /local_disk0/.ephemeral_nfs/envs/pythonEnv-4446c6cf-a569-4706-9ca1-63df8c4f6ea2/lib/python3.11/site-packages (from numba->shap->causalml) (0.42.0)\nRequirement already satisfied: mpmath>=0.19 in /databricks/python3/lib/python3.11/site-packages (from sympy->torch->causalml) (1.3.0)\n\u001B[43mNote: you may need to restart the kernel using dbutils.library.restartPython() to use updated packages.\u001B[0m\n"
     ]
    }
   ],
   "source": [
    "!pip install causalml\n",
    "import pandas as pd\n",
    "import numpy as np\n",
    "from causalml.inference.meta import LRSRegressor, XGBTRegressor,BaseRRegressor\n",
    "from sklearn.model_selection import train_test_split, KFold\n",
    "from sklearn.metrics import mean_squared_error\n",
    "from xgboost import XGBRegressor\n",
    "import shap\n",
    "import matplotlib.pyplot as plt\n",
    "from sklearn.preprocessing import StandardScaler\n",
    "from causalml.inference.meta import BaseXLearner, BaseSLearner, BaseTLearner, BaseRLearner\n",
    "from causalml.inference.meta.explainer import Explainer\n",
    "from sklearn.ensemble import RandomForestRegressor\n",
    "from lightgbm import LGBMRegressor\n",
    "from causalml.inference.tree import UpliftRandomForestClassifier\n"
   ]
  },
  {
   "cell_type": "code",
   "execution_count": 0,
   "metadata": {
    "application/vnd.databricks.v1+cell": {
     "cellMetadata": {
      "byteLimit": 2048000,
      "rowLimit": 10000
     },
     "inputWidgets": {},
     "nuid": "02a27f8b-c603-4d36-9a62-fdec4caac3f9",
     "showTitle": false,
     "title": ""
    }
   },
   "outputs": [
    {
     "output_type": "stream",
     "name": "stdout",
     "output_type": "stream",
     "text": [
      "['RFM_Group_About To Sleep', 'RFM_Group_At Risk', 'RFM_Group_Hibernating', 'RFM_Group_Loyalist', 'RFM_Group_Need Attention', 'RFM_Group_New Customers', 'RFM_Group_Potential Loyalist', 'RFM_Group_Promising', 'Age_Demographic_Baby Boomer', 'Age_Demographic_Gen X', 'Age_Demographic_Gen Y', 'Income_Category_High', 'Income_Category_Low', 'Income_Category_Medium']\n"
     ]
    },
    {
     "output_type": "stream",
     "name": "stderr",
     "output_type": "stream",
     "text": [
      "`np.bool` is a deprecated alias for the builtin `bool`. To silence this warning, use `bool` by itself. Doing this will not modify any behavior and is safe. If you specifically wanted the numpy scalar type, use `np.bool_` here.\nDeprecated in NumPy 1.20; for more details and guidance: https://numpy.org/devdocs/release/1.20.0-notes.html#deprecations\n"
     ]
    }
   ],
   "source": [
    "bool_cols = [col for col in df if df[col].dtype == np.bool]\n",
    "print(bool_cols)\n",
    "\n",
    "# Change them to int\n",
    "for col in bool_cols:\n",
    "    df[col] = df[col].astype(int)"
   ]
  },
  {
   "cell_type": "code",
   "execution_count": 0,
   "metadata": {
    "application/vnd.databricks.v1+cell": {
     "cellMetadata": {
      "byteLimit": 2048000,
      "rowLimit": 10000
     },
     "inputWidgets": {},
     "nuid": "89380264-af9e-4352-a1b9-da25276e73ae",
     "showTitle": false,
     "title": ""
    }
   },
   "outputs": [
    {
     "output_type": "stream",
     "name": "stderr",
     "output_type": "stream",
     "text": [
      "2024/04/24 04:29:00 INFO mlflow.tracking.fluent: Autologging successfully enabled for statsmodels.\n2024/04/24 04:29:00 INFO mlflow.tracking.fluent: Autologging successfully enabled for xgboost.\n2024/04/24 04:29:00 INFO mlflow.tracking.fluent: Autologging successfully enabled for sklearn.\n2024/04/24 04:29:00 INFO mlflow.tracking.fluent: Autologging successfully enabled for lightgbm.\n2024/04/24 04:29:00 WARNING mlflow.spark: With Pyspark >= 3.2, PYSPARK_PIN_THREAD environment variable must be set to false for Spark datasource autologging to work.\n2024/04/24 04:29:00 INFO mlflow.tracking.fluent: Autologging successfully enabled for pyspark.\n2024/04/24 04:29:00 INFO mlflow.tracking.fluent: Autologging successfully enabled for pyspark.ml.\n2024/04/24 04:29:03 WARNING mlflow.utils.autologging_utils: MLflow autologging encountered a warning: \"/databricks/python/lib/python3.11/site-packages/xgboost/core.py:160: UserWarning: [04:29:03] WARNING: /workspace/src/c_api/c_api.cc:1240: Saving into deprecated binary model format, please consider using `json` or `ubj`. Model format will default to JSON in XGBoost 2.2 if not specified.\"\n"
     ]
    },
    {
     "output_type": "display_data",
     "data": {
      "application/vnd.jupyter.widget-view+json": {
       "model_id": "7915bfb922934f5fb5bc4d6019ac2bcc",
       "version_major": 2,
       "version_minor": 0
      },
      "text/plain": [
       "Uploading artifacts:   0%|          | 0/5 [00:00<?, ?it/s]"
      ]
     },
     "metadata": {},
     "output_type": "display_data"
    },
    {
     "output_type": "stream",
     "name": "stderr",
     "output_type": "stream",
     "text": [
      "[04:29:05] WARNING: /workspace/src/c_api/c_api.cc:1240: Saving into deprecated binary model format, please consider using `json` or `ubj`. Model format will default to JSON in XGBoost 2.2 if not specified.\nPass `sample_weight` as keyword args.\n2024/04/24 04:29:07 WARNING mlflow.utils.autologging_utils: MLflow autologging encountered a warning: \"/databricks/python/lib/python3.11/site-packages/xgboost/core.py:160: UserWarning: [04:29:07] WARNING: /workspace/src/c_api/c_api.cc:1240: Saving into deprecated binary model format, please consider using `json` or `ubj`. Model format will default to JSON in XGBoost 2.2 if not specified.\"\n"
     ]
    },
    {
     "output_type": "display_data",
     "data": {
      "application/vnd.jupyter.widget-view+json": {
       "model_id": "c05eee05f3924378b5609286e5d61fe6",
       "version_major": 2,
       "version_minor": 0
      },
      "text/plain": [
       "Uploading artifacts:   0%|          | 0/5 [00:00<?, ?it/s]"
      ]
     },
     "metadata": {},
     "output_type": "display_data"
    },
    {
     "output_type": "stream",
     "name": "stderr",
     "output_type": "stream",
     "text": [
      "Pass `sample_weight` as keyword args.\n2024/04/24 04:29:11 WARNING mlflow.utils.autologging_utils: MLflow autologging encountered a warning: \"/databricks/python/lib/python3.11/site-packages/xgboost/core.py:160: UserWarning: [04:29:11] WARNING: /workspace/src/c_api/c_api.cc:1240: Saving into deprecated binary model format, please consider using `json` or `ubj`. Model format will default to JSON in XGBoost 2.2 if not specified.\"\n"
     ]
    },
    {
     "output_type": "display_data",
     "data": {
      "application/vnd.jupyter.widget-view+json": {
       "model_id": "b948503359064fa28b5cfb8537944ac3",
       "version_major": 2,
       "version_minor": 0
      },
      "text/plain": [
       "Uploading artifacts:   0%|          | 0/5 [00:00<?, ?it/s]"
      ]
     },
     "metadata": {},
     "output_type": "display_data"
    },
    {
     "output_type": "stream",
     "name": "stderr",
     "output_type": "stream",
     "text": [
      "Pass `sample_weight` as keyword args.\n2024/04/24 04:29:15 WARNING mlflow.utils.autologging_utils: MLflow autologging encountered a warning: \"/databricks/python/lib/python3.11/site-packages/xgboost/core.py:160: UserWarning: [04:29:15] WARNING: /workspace/src/c_api/c_api.cc:1240: Saving into deprecated binary model format, please consider using `json` or `ubj`. Model format will default to JSON in XGBoost 2.2 if not specified.\"\n"
     ]
    },
    {
     "output_type": "display_data",
     "data": {
      "application/vnd.jupyter.widget-view+json": {
       "model_id": "5513bd68ec04435697026065b120fb9a",
       "version_major": 2,
       "version_minor": 0
      },
      "text/plain": [
       "Uploading artifacts:   0%|          | 0/5 [00:00<?, ?it/s]"
      ]
     },
     "metadata": {},
     "output_type": "display_data"
    },
    {
     "output_type": "stream",
     "name": "stderr",
     "output_type": "stream",
     "text": [
      "Pass `sample_weight` as keyword args.\n2024/04/24 04:29:19 WARNING mlflow.utils.autologging_utils: MLflow autologging encountered a warning: \"/databricks/python/lib/python3.11/site-packages/xgboost/core.py:160: UserWarning: [04:29:19] WARNING: /workspace/src/c_api/c_api.cc:1240: Saving into deprecated binary model format, please consider using `json` or `ubj`. Model format will default to JSON in XGBoost 2.2 if not specified.\"\n"
     ]
    },
    {
     "output_type": "display_data",
     "data": {
      "application/vnd.jupyter.widget-view+json": {
       "model_id": "bc1b77b721d84a08b621ee13de1f3052",
       "version_major": 2,
       "version_minor": 0
      },
      "text/plain": [
       "Uploading artifacts:   0%|          | 0/5 [00:00<?, ?it/s]"
      ]
     },
     "metadata": {},
     "output_type": "display_data"
    },
    {
     "output_type": "stream",
     "name": "stderr",
     "output_type": "stream",
     "text": [
      "Pass `sample_weight` as keyword args.\n2024/04/24 04:29:22 WARNING mlflow.utils.autologging_utils: MLflow autologging encountered a warning: \"/databricks/python/lib/python3.11/site-packages/xgboost/core.py:160: UserWarning: [04:29:22] WARNING: /workspace/src/c_api/c_api.cc:1240: Saving into deprecated binary model format, please consider using `json` or `ubj`. Model format will default to JSON in XGBoost 2.2 if not specified.\"\n"
     ]
    },
    {
     "output_type": "display_data",
     "data": {
      "application/vnd.jupyter.widget-view+json": {
       "model_id": "30fe643a263f44cf8aec45e819165c7f",
       "version_major": 2,
       "version_minor": 0
      },
      "text/plain": [
       "Uploading artifacts:   0%|          | 0/5 [00:00<?, ?it/s]"
      ]
     },
     "metadata": {},
     "output_type": "display_data"
    },
    {
     "output_type": "stream",
     "name": "stderr",
     "output_type": "stream",
     "text": [
      "2024/04/24 04:29:27 WARNING mlflow.utils.autologging_utils: MLflow autologging encountered a warning: \"/databricks/python/lib/python3.11/site-packages/xgboost/core.py:160: UserWarning: [04:29:27] WARNING: /workspace/src/c_api/c_api.cc:1240: Saving into deprecated binary model format, please consider using `json` or `ubj`. Model format will default to JSON in XGBoost 2.2 if not specified.\"\n"
     ]
    },
    {
     "output_type": "display_data",
     "data": {
      "application/vnd.jupyter.widget-view+json": {
       "model_id": "055f32c299fc43b4860de6e5c8a96dca",
       "version_major": 2,
       "version_minor": 0
      },
      "text/plain": [
       "Uploading artifacts:   0%|          | 0/5 [00:00<?, ?it/s]"
      ]
     },
     "metadata": {},
     "output_type": "display_data"
    },
    {
     "output_type": "stream",
     "name": "stderr",
     "output_type": "stream",
     "text": [
      "[04:29:29] WARNING: /workspace/src/c_api/c_api.cc:1240: Saving into deprecated binary model format, please consider using `json` or `ubj`. Model format will default to JSON in XGBoost 2.2 if not specified.\nPass `sample_weight` as keyword args.\n2024/04/24 04:29:31 WARNING mlflow.utils.autologging_utils: MLflow autologging encountered a warning: \"/databricks/python/lib/python3.11/site-packages/xgboost/core.py:160: UserWarning: [04:29:31] WARNING: /workspace/src/c_api/c_api.cc:1240: Saving into deprecated binary model format, please consider using `json` or `ubj`. Model format will default to JSON in XGBoost 2.2 if not specified.\"\n"
     ]
    },
    {
     "output_type": "display_data",
     "data": {
      "application/vnd.jupyter.widget-view+json": {
       "model_id": "0bef5d0a05b444068cd01013817e1299",
       "version_major": 2,
       "version_minor": 0
      },
      "text/plain": [
       "Uploading artifacts:   0%|          | 0/5 [00:00<?, ?it/s]"
      ]
     },
     "metadata": {},
     "output_type": "display_data"
    },
    {
     "output_type": "stream",
     "name": "stderr",
     "output_type": "stream",
     "text": [
      "Pass `sample_weight` as keyword args.\n2024/04/24 04:29:35 WARNING mlflow.utils.autologging_utils: MLflow autologging encountered a warning: \"/databricks/python/lib/python3.11/site-packages/xgboost/core.py:160: UserWarning: [04:29:35] WARNING: /workspace/src/c_api/c_api.cc:1240: Saving into deprecated binary model format, please consider using `json` or `ubj`. Model format will default to JSON in XGBoost 2.2 if not specified.\"\n"
     ]
    },
    {
     "output_type": "display_data",
     "data": {
      "application/vnd.jupyter.widget-view+json": {
       "model_id": "94a3bed61c93466b98c2c14a389c3658",
       "version_major": 2,
       "version_minor": 0
      },
      "text/plain": [
       "Uploading artifacts:   0%|          | 0/5 [00:00<?, ?it/s]"
      ]
     },
     "metadata": {},
     "output_type": "display_data"
    },
    {
     "output_type": "stream",
     "name": "stderr",
     "output_type": "stream",
     "text": [
      "Pass `sample_weight` as keyword args.\n2024/04/24 04:29:38 WARNING mlflow.utils.autologging_utils: MLflow autologging encountered a warning: \"/databricks/python/lib/python3.11/site-packages/xgboost/core.py:160: UserWarning: [04:29:38] WARNING: /workspace/src/c_api/c_api.cc:1240: Saving into deprecated binary model format, please consider using `json` or `ubj`. Model format will default to JSON in XGBoost 2.2 if not specified.\"\n"
     ]
    },
    {
     "output_type": "display_data",
     "data": {
      "application/vnd.jupyter.widget-view+json": {
       "model_id": "616c506fe94b4c76b8a993114fe03620",
       "version_major": 2,
       "version_minor": 0
      },
      "text/plain": [
       "Uploading artifacts:   0%|          | 0/5 [00:00<?, ?it/s]"
      ]
     },
     "metadata": {},
     "output_type": "display_data"
    },
    {
     "output_type": "stream",
     "name": "stderr",
     "output_type": "stream",
     "text": [
      "Pass `sample_weight` as keyword args.\n2024/04/24 04:29:42 WARNING mlflow.utils.autologging_utils: MLflow autologging encountered a warning: \"/databricks/python/lib/python3.11/site-packages/xgboost/core.py:160: UserWarning: [04:29:42] WARNING: /workspace/src/c_api/c_api.cc:1240: Saving into deprecated binary model format, please consider using `json` or `ubj`. Model format will default to JSON in XGBoost 2.2 if not specified.\"\n"
     ]
    },
    {
     "output_type": "display_data",
     "data": {
      "application/vnd.jupyter.widget-view+json": {
       "model_id": "80ad52bc8f144363b4f5de143e4c7cd5",
       "version_major": 2,
       "version_minor": 0
      },
      "text/plain": [
       "Uploading artifacts:   0%|          | 0/5 [00:00<?, ?it/s]"
      ]
     },
     "metadata": {},
     "output_type": "display_data"
    },
    {
     "output_type": "stream",
     "name": "stderr",
     "output_type": "stream",
     "text": [
      "Pass `sample_weight` as keyword args.\n2024/04/24 04:29:46 WARNING mlflow.utils.autologging_utils: MLflow autologging encountered a warning: \"/databricks/python/lib/python3.11/site-packages/xgboost/core.py:160: UserWarning: [04:29:46] WARNING: /workspace/src/c_api/c_api.cc:1240: Saving into deprecated binary model format, please consider using `json` or `ubj`. Model format will default to JSON in XGBoost 2.2 if not specified.\"\n"
     ]
    },
    {
     "output_type": "display_data",
     "data": {
      "application/vnd.jupyter.widget-view+json": {
       "model_id": "4d931275109e425ba0e03d8ded823f9e",
       "version_major": 2,
       "version_minor": 0
      },
      "text/plain": [
       "Uploading artifacts:   0%|          | 0/5 [00:00<?, ?it/s]"
      ]
     },
     "metadata": {},
     "output_type": "display_data"
    },
    {
     "output_type": "stream",
     "name": "stderr",
     "output_type": "stream",
     "text": [
      "2024/04/24 04:29:51 WARNING mlflow.utils.autologging_utils: MLflow autologging encountered a warning: \"/databricks/python/lib/python3.11/site-packages/xgboost/core.py:160: UserWarning: [04:29:51] WARNING: /workspace/src/c_api/c_api.cc:1240: Saving into deprecated binary model format, please consider using `json` or `ubj`. Model format will default to JSON in XGBoost 2.2 if not specified.\"\n"
     ]
    },
    {
     "output_type": "display_data",
     "data": {
      "application/vnd.jupyter.widget-view+json": {
       "model_id": "b7ec57bde7ac49549df5b5ac01628245",
       "version_major": 2,
       "version_minor": 0
      },
      "text/plain": [
       "Uploading artifacts:   0%|          | 0/5 [00:00<?, ?it/s]"
      ]
     },
     "metadata": {},
     "output_type": "display_data"
    },
    {
     "output_type": "stream",
     "name": "stderr",
     "output_type": "stream",
     "text": [
      "[04:29:53] WARNING: /workspace/src/c_api/c_api.cc:1240: Saving into deprecated binary model format, please consider using `json` or `ubj`. Model format will default to JSON in XGBoost 2.2 if not specified.\nPass `sample_weight` as keyword args.\n2024/04/24 04:29:54 WARNING mlflow.utils.autologging_utils: MLflow autologging encountered a warning: \"/databricks/python/lib/python3.11/site-packages/xgboost/core.py:160: UserWarning: [04:29:54] WARNING: /workspace/src/c_api/c_api.cc:1240: Saving into deprecated binary model format, please consider using `json` or `ubj`. Model format will default to JSON in XGBoost 2.2 if not specified.\"\n"
     ]
    },
    {
     "output_type": "display_data",
     "data": {
      "application/vnd.jupyter.widget-view+json": {
       "model_id": "92206950a4634ef98f4e5ab65c2cb902",
       "version_major": 2,
       "version_minor": 0
      },
      "text/plain": [
       "Uploading artifacts:   0%|          | 0/5 [00:00<?, ?it/s]"
      ]
     },
     "metadata": {},
     "output_type": "display_data"
    },
    {
     "output_type": "stream",
     "name": "stderr",
     "output_type": "stream",
     "text": [
      "Pass `sample_weight` as keyword args.\n2024/04/24 04:29:58 WARNING mlflow.utils.autologging_utils: MLflow autologging encountered a warning: \"/databricks/python/lib/python3.11/site-packages/xgboost/core.py:160: UserWarning: [04:29:58] WARNING: /workspace/src/c_api/c_api.cc:1240: Saving into deprecated binary model format, please consider using `json` or `ubj`. Model format will default to JSON in XGBoost 2.2 if not specified.\"\n"
     ]
    },
    {
     "output_type": "display_data",
     "data": {
      "application/vnd.jupyter.widget-view+json": {
       "model_id": "704886a3d5ea4ad9beabf0f3d9cb5748",
       "version_major": 2,
       "version_minor": 0
      },
      "text/plain": [
       "Uploading artifacts:   0%|          | 0/5 [00:00<?, ?it/s]"
      ]
     },
     "metadata": {},
     "output_type": "display_data"
    },
    {
     "output_type": "stream",
     "name": "stderr",
     "output_type": "stream",
     "text": [
      "Pass `sample_weight` as keyword args.\n2024/04/24 04:30:02 WARNING mlflow.utils.autologging_utils: MLflow autologging encountered a warning: \"/databricks/python/lib/python3.11/site-packages/xgboost/core.py:160: UserWarning: [04:30:02] WARNING: /workspace/src/c_api/c_api.cc:1240: Saving into deprecated binary model format, please consider using `json` or `ubj`. Model format will default to JSON in XGBoost 2.2 if not specified.\"\n"
     ]
    },
    {
     "output_type": "display_data",
     "data": {
      "application/vnd.jupyter.widget-view+json": {
       "model_id": "0c20c4a7153148428bfba3989804765d",
       "version_major": 2,
       "version_minor": 0
      },
      "text/plain": [
       "Uploading artifacts:   0%|          | 0/5 [00:00<?, ?it/s]"
      ]
     },
     "metadata": {},
     "output_type": "display_data"
    },
    {
     "output_type": "stream",
     "name": "stderr",
     "output_type": "stream",
     "text": [
      "Pass `sample_weight` as keyword args.\n2024/04/24 04:30:07 WARNING mlflow.utils.autologging_utils: MLflow autologging encountered a warning: \"/databricks/python/lib/python3.11/site-packages/xgboost/core.py:160: UserWarning: [04:30:07] WARNING: /workspace/src/c_api/c_api.cc:1240: Saving into deprecated binary model format, please consider using `json` or `ubj`. Model format will default to JSON in XGBoost 2.2 if not specified.\"\n"
     ]
    },
    {
     "output_type": "display_data",
     "data": {
      "application/vnd.jupyter.widget-view+json": {
       "model_id": "aa341bbce8ff4577b758316ff38cef09",
       "version_major": 2,
       "version_minor": 0
      },
      "text/plain": [
       "Uploading artifacts:   0%|          | 0/5 [00:00<?, ?it/s]"
      ]
     },
     "metadata": {},
     "output_type": "display_data"
    },
    {
     "output_type": "stream",
     "name": "stderr",
     "output_type": "stream",
     "text": [
      "Pass `sample_weight` as keyword args.\n2024/04/24 04:30:11 WARNING mlflow.utils.autologging_utils: MLflow autologging encountered a warning: \"/databricks/python/lib/python3.11/site-packages/xgboost/core.py:160: UserWarning: [04:30:11] WARNING: /workspace/src/c_api/c_api.cc:1240: Saving into deprecated binary model format, please consider using `json` or `ubj`. Model format will default to JSON in XGBoost 2.2 if not specified.\"\n"
     ]
    },
    {
     "output_type": "display_data",
     "data": {
      "application/vnd.jupyter.widget-view+json": {
       "model_id": "5acd209d984644ebba1ab8d05786f20e",
       "version_major": 2,
       "version_minor": 0
      },
      "text/plain": [
       "Uploading artifacts:   0%|          | 0/5 [00:00<?, ?it/s]"
      ]
     },
     "metadata": {},
     "output_type": "display_data"
    },
    {
     "output_type": "stream",
     "name": "stderr",
     "output_type": "stream",
     "text": [
      "2024/04/24 04:30:16 WARNING mlflow.utils.autologging_utils: MLflow autologging encountered a warning: \"/databricks/python/lib/python3.11/site-packages/xgboost/core.py:160: UserWarning: [04:30:16] WARNING: /workspace/src/c_api/c_api.cc:1240: Saving into deprecated binary model format, please consider using `json` or `ubj`. Model format will default to JSON in XGBoost 2.2 if not specified.\"\n"
     ]
    },
    {
     "output_type": "display_data",
     "data": {
      "application/vnd.jupyter.widget-view+json": {
       "model_id": "dd7bce46169741edb6c53f33f576e0cf",
       "version_major": 2,
       "version_minor": 0
      },
      "text/plain": [
       "Uploading artifacts:   0%|          | 0/5 [00:00<?, ?it/s]"
      ]
     },
     "metadata": {},
     "output_type": "display_data"
    },
    {
     "output_type": "stream",
     "name": "stderr",
     "output_type": "stream",
     "text": [
      "[04:30:18] WARNING: /workspace/src/c_api/c_api.cc:1240: Saving into deprecated binary model format, please consider using `json` or `ubj`. Model format will default to JSON in XGBoost 2.2 if not specified.\nPass `sample_weight` as keyword args.\n2024/04/24 04:30:19 WARNING mlflow.utils.autologging_utils: MLflow autologging encountered a warning: \"/databricks/python/lib/python3.11/site-packages/xgboost/core.py:160: UserWarning: [04:30:19] WARNING: /workspace/src/c_api/c_api.cc:1240: Saving into deprecated binary model format, please consider using `json` or `ubj`. Model format will default to JSON in XGBoost 2.2 if not specified.\"\n"
     ]
    },
    {
     "output_type": "display_data",
     "data": {
      "application/vnd.jupyter.widget-view+json": {
       "model_id": "228ff30d0b68475387f864bac60ba20c",
       "version_major": 2,
       "version_minor": 0
      },
      "text/plain": [
       "Uploading artifacts:   0%|          | 0/5 [00:00<?, ?it/s]"
      ]
     },
     "metadata": {},
     "output_type": "display_data"
    },
    {
     "output_type": "stream",
     "name": "stderr",
     "output_type": "stream",
     "text": [
      "Pass `sample_weight` as keyword args.\n2024/04/24 04:30:23 WARNING mlflow.utils.autologging_utils: MLflow autologging encountered a warning: \"/databricks/python/lib/python3.11/site-packages/xgboost/core.py:160: UserWarning: [04:30:23] WARNING: /workspace/src/c_api/c_api.cc:1240: Saving into deprecated binary model format, please consider using `json` or `ubj`. Model format will default to JSON in XGBoost 2.2 if not specified.\"\n"
     ]
    },
    {
     "output_type": "display_data",
     "data": {
      "application/vnd.jupyter.widget-view+json": {
       "model_id": "8f7e34a323c349de9e3359bb906ea7dc",
       "version_major": 2,
       "version_minor": 0
      },
      "text/plain": [
       "Uploading artifacts:   0%|          | 0/5 [00:00<?, ?it/s]"
      ]
     },
     "metadata": {},
     "output_type": "display_data"
    },
    {
     "output_type": "stream",
     "name": "stderr",
     "output_type": "stream",
     "text": [
      "Pass `sample_weight` as keyword args.\n2024/04/24 04:30:27 WARNING mlflow.utils.autologging_utils: MLflow autologging encountered a warning: \"/databricks/python/lib/python3.11/site-packages/xgboost/core.py:160: UserWarning: [04:30:27] WARNING: /workspace/src/c_api/c_api.cc:1240: Saving into deprecated binary model format, please consider using `json` or `ubj`. Model format will default to JSON in XGBoost 2.2 if not specified.\"\n"
     ]
    },
    {
     "output_type": "display_data",
     "data": {
      "application/vnd.jupyter.widget-view+json": {
       "model_id": "284a37ae06224c99869c5bb7a7c37883",
       "version_major": 2,
       "version_minor": 0
      },
      "text/plain": [
       "Uploading artifacts:   0%|          | 0/5 [00:00<?, ?it/s]"
      ]
     },
     "metadata": {},
     "output_type": "display_data"
    },
    {
     "output_type": "stream",
     "name": "stderr",
     "output_type": "stream",
     "text": [
      "Pass `sample_weight` as keyword args.\n2024/04/24 04:30:31 WARNING mlflow.utils.autologging_utils: MLflow autologging encountered a warning: \"/databricks/python/lib/python3.11/site-packages/xgboost/core.py:160: UserWarning: [04:30:31] WARNING: /workspace/src/c_api/c_api.cc:1240: Saving into deprecated binary model format, please consider using `json` or `ubj`. Model format will default to JSON in XGBoost 2.2 if not specified.\"\n"
     ]
    },
    {
     "output_type": "display_data",
     "data": {
      "application/vnd.jupyter.widget-view+json": {
       "model_id": "1cbe1b2112294a078659f1dd6c8b36cd",
       "version_major": 2,
       "version_minor": 0
      },
      "text/plain": [
       "Uploading artifacts:   0%|          | 0/5 [00:00<?, ?it/s]"
      ]
     },
     "metadata": {},
     "output_type": "display_data"
    },
    {
     "output_type": "stream",
     "name": "stderr",
     "output_type": "stream",
     "text": [
      "Pass `sample_weight` as keyword args.\n2024/04/24 04:30:35 WARNING mlflow.utils.autologging_utils: MLflow autologging encountered a warning: \"/databricks/python/lib/python3.11/site-packages/xgboost/core.py:160: UserWarning: [04:30:35] WARNING: /workspace/src/c_api/c_api.cc:1240: Saving into deprecated binary model format, please consider using `json` or `ubj`. Model format will default to JSON in XGBoost 2.2 if not specified.\"\n"
     ]
    },
    {
     "output_type": "display_data",
     "data": {
      "application/vnd.jupyter.widget-view+json": {
       "model_id": "c4c3cae8e60540a9a5838d5685698732",
       "version_major": 2,
       "version_minor": 0
      },
      "text/plain": [
       "Uploading artifacts:   0%|          | 0/5 [00:00<?, ?it/s]"
      ]
     },
     "metadata": {},
     "output_type": "display_data"
    },
    {
     "output_type": "display_data",
     "data": {
      "application/vnd.jupyter.widget-view+json": {
       "model_id": "7375ce4fdd2f43f39e7786c9e41323af",
       "version_major": 2,
       "version_minor": 0
      },
      "text/plain": [
       "Uploading artifacts:   0%|          | 0/5 [00:00<?, ?it/s]"
      ]
     },
     "metadata": {},
     "output_type": "display_data"
    }
   ],
   "source": [
    "#!pip uninstall mlflow\n",
    "#!pip install mlflow==2.11.1\n",
    "import mlflow\n",
    "from mlflow.models.signature import ModelSignature\n",
    "from mlflow.types.schema import Schema, ColSpec\n",
    "import pandas as pd\n",
    "from sklearn.model_selection import train_test_split, KFold\n",
    "from sklearn.metrics import mean_squared_error\n",
    "import numpy as np\n",
    "import shap\n",
    "from xgboost import XGBRegressor\n",
    "\n",
    "# Start MLflow tracking\n",
    "mlflow.autolog()\n",
    "mlflow.set_tracking_uri(\"databricks\")\n",
    "\n",
    "# Set up an experiment\n",
    "experiment_name = \"/Users/xiaorong.tian@mail.mcgill.ca/INSY695test\"\n",
    "mlflow.set_experiment(experiment_name)\n",
    "\n",
    "# Treatment, covariates, and outcome definitions\n",
    "treatments = ['Income_Category_High', 'Is_Parent', 'Cmp_Attitude', 'Complain']\n",
    "covariates_list = [\n",
    "    'Income_Category_High', 'Income_Category_Low', 'Income_Category_Medium',\n",
    "    'Complain', 'Is_Parent', 'Cmp_Attitude', 'Family_Size', 'Age',\n",
    "    'Member_Year', 'Total_amount', 'Total_purchase',\n",
    "    'NumWebVisitsMonth', 'NumDealsPurchases'\n",
    "]\n",
    "outcome = 'Recency'\n",
    "\n",
    "# Define the function to calculate ATE\n",
    "def cross_validate_ate(estimator, X, treatment, y, cv=5):\n",
    "    kf = KFold(n_splits=cv, shuffle=True, random_state=42)\n",
    "    ate_scores = []\n",
    "\n",
    "    for train_index, test_index in kf.split(X):\n",
    "        X_train, X_test = X.iloc[train_index], X.iloc[test_index]\n",
    "        treatment_train, treatment_test = treatment.iloc[train_index], treatment.iloc[test_index]\n",
    "        y_train, y_test = y.iloc[train_index], y.iloc[test_index]\n",
    "\n",
    "        estimator.fit(X_train, treatment_train, y_train)\n",
    "        ate_estimate = np.mean(estimator.predict(X_test))\n",
    "        ate_scores.append(ate_estimate)\n",
    "\n",
    "    return np.mean(ate_scores), np.std(ate_scores)\n",
    "\n",
    "# Load data (example DataFrame creation for demonstration)\n",
    "df = pd.DataFrame(np.random.rand(100, 14), columns=covariates_list + [outcome])\n",
    "\n",
    "# Define input and output schemas\n",
    "input_schema = Schema([\n",
    "    ColSpec(\"integer\", \"Income_Category_High\"),\n",
    "    ColSpec(\"integer\", \"Income_Category_Low\"),\n",
    "    ColSpec(\"integer\", \"Income_Category_Medium\"),\n",
    "    ColSpec(\"integer\", \"Complain\"),\n",
    "    ColSpec(\"integer\", \"Is_Parent\"),\n",
    "    ColSpec(\"integer\", \"Cmp_Attitude\"),\n",
    "    ColSpec(\"integer\", \"Family_Size\"),\n",
    "    ColSpec(\"integer\", \"Age\"),\n",
    "    ColSpec(\"integer\", \"Member_Year\"),\n",
    "    ColSpec(\"double\", \"Total_amount\"),\n",
    "    ColSpec(\"integer\", \"Total_purchase\"),\n",
    "    ColSpec(\"integer\", \"NumWebVisitsMonth\"),\n",
    "    ColSpec(\"integer\", \"NumDealsPurchases\")\n",
    "])\n",
    "\n",
    "output_schema = Schema([ColSpec(\"integer\", \"Recency\")])\n",
    "signature = ModelSignature(inputs=input_schema, outputs=output_schema)\n",
    "\n",
    "# Start an MLflow run\n",
    "with mlflow.start_run():\n",
    "    # Define variables to store the best model information\n",
    "    lowest_rmse = float('inf')\n",
    "    best_model = None\n",
    "    best_treatment = None\n",
    "    best_model_type = None\n",
    "    best_ate = None\n",
    "    best_rmse = None\n",
    "    shap_values_dict = {}\n",
    "\n",
    "    # Iterate over model types and treatments\n",
    "    for model_type in [XGBRegressor]:\n",
    "        for treatment in treatments:\n",
    "            current_covariates = [cov for cov in covariates_list if cov != treatment]\n",
    "            X = df[current_covariates]\n",
    "            y = df[outcome]\n",
    "            t = df[treatment]\n",
    "            \n",
    "            # Split data\n",
    "            X_train, X_test, y_train, y_test, t_train, t_test = train_test_split(\n",
    "                X, y, t, test_size=0.2, random_state=42)\n",
    "            \n",
    "            # Train model\n",
    "            model = model_type()\n",
    "            model.fit(X_train, y_train)\n",
    "\n",
    "            # Calculate SHAP values\n",
    "            explainer = shap.Explainer(model)\n",
    "            shap_values = explainer(X_test)\n",
    "            shap_values_dict[(model_type, treatment)] = shap_values\n",
    "\n",
    "            # Estimate ATE\n",
    "            ate_mean, ate_std = cross_validate_ate(model, X, t, y)\n",
    "            \n",
    "            # Predictions for MSE calculation\n",
    "            y_pred = model.predict(X_test)\n",
    "            rmse = np.sqrt(mean_squared_error(y_test, y_pred))\n",
    "\n",
    "            # Evaluate best model\n",
    "            if rmse < lowest_rmse:\n",
    "                lowest_rmse = rmse\n",
    "                best_model = model\n",
    "                best_treatment = treatment\n",
    "                best_model_type = model_type\n",
    "                best_ate = ate_mean\n",
    "                best_rmse = rmse\n",
    "\n",
    "    # Log the best model with signature\n",
    "    mlflow.sklearn.log_model(best_model, \"model_casualml\", signature=signature)\n",
    "\n",
    "# End the MLflow run\n",
    "mlflow.end_run()\n"
   ]
  },
  {
   "cell_type": "code",
   "execution_count": 0,
   "metadata": {
    "application/vnd.databricks.v1+cell": {
     "cellMetadata": {},
     "inputWidgets": {},
     "nuid": "13cbda72-dd1c-4f76-b586-f43775bd2cd1",
     "showTitle": false,
     "title": ""
    }
   },
   "outputs": [],
   "source": []
  },
  {
   "cell_type": "code",
   "execution_count": 0,
   "metadata": {
    "application/vnd.databricks.v1+cell": {
     "cellMetadata": {},
     "inputWidgets": {},
     "nuid": "ae2a8125-2594-4e7b-8d5e-e0d506b9e206",
     "showTitle": false,
     "title": ""
    }
   },
   "outputs": [],
   "source": [
    "# 注册模型到 Model Registry\n",
    "model_uri = \"runs:/<run-id>/random-forest-model\"\n",
    "model_name = \"RandomForestModel\"\n",
    "model_version = mlflow.register_model(model_uri, model_name)"
   ]
  }
 ],
 "metadata": {
  "application/vnd.databricks.v1+notebook": {
   "dashboards": [],
   "language": "python",
   "notebookMetadata": {
    "pythonIndentUnit": 4
   },
   "notebookName": "Model_API_Deployment",
   "widgets": {}
  }
 },
 "nbformat": 4,
 "nbformat_minor": 0
}
