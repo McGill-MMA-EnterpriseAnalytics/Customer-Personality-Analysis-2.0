{
 "cells": [
  {
   "cell_type": "markdown",
   "metadata": {},
   "source": [
    "# productionize customer segment prediction model\n",
    "\n",
    "1. Model Registration\n",
    "2. Model Tracking \n",
    "3. Auto Logging\n"
   ]
  },
  {
   "cell_type": "code",
   "execution_count": 49,
   "metadata": {},
   "outputs": [
    {
     "name": "stdout",
     "output_type": "stream",
     "text": [
      "Requirement already satisfied: mlflow in /Users/kellyliu/anaconda3/lib/python3.11/site-packages (2.12.1)\n",
      "Requirement already satisfied: Flask<4 in /Users/kellyliu/anaconda3/lib/python3.11/site-packages (from mlflow) (2.2.2)\n",
      "Requirement already satisfied: alembic!=1.10.0,<2 in /Users/kellyliu/anaconda3/lib/python3.11/site-packages (from mlflow) (1.13.1)\n",
      "Requirement already satisfied: click<9,>=7.0 in /Users/kellyliu/anaconda3/lib/python3.11/site-packages (from mlflow) (8.0.4)\n",
      "Requirement already satisfied: cloudpickle<4 in /Users/kellyliu/anaconda3/lib/python3.11/site-packages (from mlflow) (2.2.1)\n",
      "Requirement already satisfied: docker<8,>=4.0.0 in /Users/kellyliu/anaconda3/lib/python3.11/site-packages (from mlflow) (7.0.0)\n",
      "Requirement already satisfied: entrypoints<1 in /Users/kellyliu/anaconda3/lib/python3.11/site-packages (from mlflow) (0.4)\n",
      "Requirement already satisfied: gitpython<4,>=3.1.9 in /Users/kellyliu/anaconda3/lib/python3.11/site-packages (from mlflow) (3.1.42)\n",
      "Requirement already satisfied: graphene<4 in /Users/kellyliu/anaconda3/lib/python3.11/site-packages (from mlflow) (3.3)\n",
      "Requirement already satisfied: importlib-metadata!=4.7.0,<8,>=3.7.0 in /Users/kellyliu/anaconda3/lib/python3.11/site-packages (from mlflow) (6.0.0)\n",
      "Requirement already satisfied: markdown<4,>=3.3 in /Users/kellyliu/anaconda3/lib/python3.11/site-packages (from mlflow) (3.4.1)\n",
      "Requirement already satisfied: matplotlib<4 in /Users/kellyliu/anaconda3/lib/python3.11/site-packages (from mlflow) (3.7.2)\n",
      "Requirement already satisfied: numpy<2 in /Users/kellyliu/anaconda3/lib/python3.11/site-packages (from mlflow) (1.24.4)\n",
      "Requirement already satisfied: packaging<25 in /Users/kellyliu/anaconda3/lib/python3.11/site-packages (from mlflow) (23.1)\n",
      "Requirement already satisfied: pandas<3 in /Users/kellyliu/anaconda3/lib/python3.11/site-packages (from mlflow) (2.0.3)\n",
      "Requirement already satisfied: protobuf<6,>=3.12.0 in /Users/kellyliu/anaconda3/lib/python3.11/site-packages (from mlflow) (4.25.3)\n",
      "Requirement already satisfied: pyarrow<16,>=4.0.0 in /Users/kellyliu/anaconda3/lib/python3.11/site-packages (from mlflow) (11.0.0)\n",
      "Requirement already satisfied: pytz<2025 in /Users/kellyliu/anaconda3/lib/python3.11/site-packages (from mlflow) (2023.3.post1)\n",
      "Requirement already satisfied: pyyaml<7,>=5.1 in /Users/kellyliu/anaconda3/lib/python3.11/site-packages (from mlflow) (6.0)\n",
      "Requirement already satisfied: querystring-parser<2 in /Users/kellyliu/anaconda3/lib/python3.11/site-packages (from mlflow) (1.2.4)\n",
      "Requirement already satisfied: requests<3,>=2.17.3 in /Users/kellyliu/anaconda3/lib/python3.11/site-packages (from mlflow) (2.31.0)\n",
      "Requirement already satisfied: scikit-learn<2 in /Users/kellyliu/anaconda3/lib/python3.11/site-packages (from mlflow) (1.4.1.post1)\n",
      "Requirement already satisfied: scipy<2 in /Users/kellyliu/anaconda3/lib/python3.11/site-packages (from mlflow) (1.12.0)\n",
      "Requirement already satisfied: sqlalchemy<3,>=1.4.0 in /Users/kellyliu/anaconda3/lib/python3.11/site-packages (from mlflow) (1.4.39)\n",
      "Requirement already satisfied: sqlparse<1,>=0.4.0 in /Users/kellyliu/anaconda3/lib/python3.11/site-packages (from mlflow) (0.5.0)\n",
      "Requirement already satisfied: Jinja2<4,>=2.11 in /Users/kellyliu/anaconda3/lib/python3.11/site-packages (from mlflow) (3.1.2)\n",
      "Requirement already satisfied: gunicorn<22 in /Users/kellyliu/anaconda3/lib/python3.11/site-packages (from mlflow) (21.2.0)\n",
      "Requirement already satisfied: Mako in /Users/kellyliu/anaconda3/lib/python3.11/site-packages (from alembic!=1.10.0,<2->mlflow) (1.3.3)\n",
      "Requirement already satisfied: typing-extensions>=4 in /Users/kellyliu/anaconda3/lib/python3.11/site-packages (from alembic!=1.10.0,<2->mlflow) (4.7.1)\n",
      "Requirement already satisfied: urllib3>=1.26.0 in /Users/kellyliu/anaconda3/lib/python3.11/site-packages (from docker<8,>=4.0.0->mlflow) (1.26.16)\n",
      "Requirement already satisfied: Werkzeug>=2.2.2 in /Users/kellyliu/anaconda3/lib/python3.11/site-packages (from Flask<4->mlflow) (2.2.3)\n",
      "Requirement already satisfied: itsdangerous>=2.0 in /Users/kellyliu/anaconda3/lib/python3.11/site-packages (from Flask<4->mlflow) (2.0.1)\n",
      "Requirement already satisfied: gitdb<5,>=4.0.1 in /Users/kellyliu/anaconda3/lib/python3.11/site-packages (from gitpython<4,>=3.1.9->mlflow) (4.0.11)\n",
      "Requirement already satisfied: graphql-core<3.3,>=3.1 in /Users/kellyliu/anaconda3/lib/python3.11/site-packages (from graphene<4->mlflow) (3.2.3)\n",
      "Requirement already satisfied: graphql-relay<3.3,>=3.1 in /Users/kellyliu/anaconda3/lib/python3.11/site-packages (from graphene<4->mlflow) (3.2.0)\n",
      "Requirement already satisfied: aniso8601<10,>=8 in /Users/kellyliu/anaconda3/lib/python3.11/site-packages (from graphene<4->mlflow) (9.0.1)\n",
      "Requirement already satisfied: zipp>=0.5 in /Users/kellyliu/anaconda3/lib/python3.11/site-packages (from importlib-metadata!=4.7.0,<8,>=3.7.0->mlflow) (3.11.0)\n",
      "Requirement already satisfied: MarkupSafe>=2.0 in /Users/kellyliu/anaconda3/lib/python3.11/site-packages (from Jinja2<4,>=2.11->mlflow) (2.1.1)\n",
      "Requirement already satisfied: contourpy>=1.0.1 in /Users/kellyliu/anaconda3/lib/python3.11/site-packages (from matplotlib<4->mlflow) (1.0.5)\n",
      "Requirement already satisfied: cycler>=0.10 in /Users/kellyliu/anaconda3/lib/python3.11/site-packages (from matplotlib<4->mlflow) (0.11.0)\n",
      "Requirement already satisfied: fonttools>=4.22.0 in /Users/kellyliu/anaconda3/lib/python3.11/site-packages (from matplotlib<4->mlflow) (4.25.0)\n",
      "Requirement already satisfied: kiwisolver>=1.0.1 in /Users/kellyliu/anaconda3/lib/python3.11/site-packages (from matplotlib<4->mlflow) (1.4.4)\n",
      "Requirement already satisfied: pillow>=6.2.0 in /Users/kellyliu/anaconda3/lib/python3.11/site-packages (from matplotlib<4->mlflow) (9.4.0)\n",
      "Requirement already satisfied: pyparsing<3.1,>=2.3.1 in /Users/kellyliu/anaconda3/lib/python3.11/site-packages (from matplotlib<4->mlflow) (3.0.9)\n",
      "Requirement already satisfied: python-dateutil>=2.7 in /Users/kellyliu/anaconda3/lib/python3.11/site-packages (from matplotlib<4->mlflow) (2.8.2)\n",
      "Requirement already satisfied: tzdata>=2022.1 in /Users/kellyliu/anaconda3/lib/python3.11/site-packages (from pandas<3->mlflow) (2023.3)\n",
      "Requirement already satisfied: six in /Users/kellyliu/anaconda3/lib/python3.11/site-packages (from querystring-parser<2->mlflow) (1.16.0)\n",
      "Requirement already satisfied: charset-normalizer<4,>=2 in /Users/kellyliu/anaconda3/lib/python3.11/site-packages (from requests<3,>=2.17.3->mlflow) (2.0.4)\n",
      "Requirement already satisfied: idna<4,>=2.5 in /Users/kellyliu/anaconda3/lib/python3.11/site-packages (from requests<3,>=2.17.3->mlflow) (3.4)\n",
      "Requirement already satisfied: certifi>=2017.4.17 in /Users/kellyliu/anaconda3/lib/python3.11/site-packages (from requests<3,>=2.17.3->mlflow) (2024.2.2)\n",
      "Requirement already satisfied: joblib>=1.2.0 in /Users/kellyliu/anaconda3/lib/python3.11/site-packages (from scikit-learn<2->mlflow) (1.2.0)\n",
      "Requirement already satisfied: threadpoolctl>=2.0.0 in /Users/kellyliu/anaconda3/lib/python3.11/site-packages (from scikit-learn<2->mlflow) (3.1.0)\n",
      "Requirement already satisfied: smmap<6,>=3.0.1 in /Users/kellyliu/anaconda3/lib/python3.11/site-packages (from gitdb<5,>=4.0.1->gitpython<4,>=3.1.9->mlflow) (5.0.1)\n",
      "Note: you may need to restart the kernel to use updated packages.\n"
     ]
    }
   ],
   "source": [
    "pip install --upgrade mlflow"
   ]
  },
  {
   "cell_type": "markdown",
   "metadata": {},
   "source": [
    "# mlflow tracking: Setup new experiment"
   ]
  },
  {
   "cell_type": "code",
   "execution_count": 50,
   "metadata": {},
   "outputs": [
    {
     "data": {
      "text/plain": [
       "<Experiment: artifact_location='mlflow-artifacts:/991329419849384240', creation_time=1714001602979, experiment_id='991329419849384240', last_update_time=1714001602979, lifecycle_stage='active', name='Customer_Segment_Prediction_Model', tags={}>"
      ]
     },
     "execution_count": 50,
     "metadata": {},
     "output_type": "execute_result"
    }
   ],
   "source": [
    "import mlflow\n",
    "import mlflow.sklearn\n",
    "import mlflow.pyfunc\n",
    "\n",
    "# MLflow tracking\n",
    "mlflow.set_tracking_uri(\"http://127.0.0.1:5000\")\n",
    "mlflow.set_experiment(\"Customer_Segment_Prediction_Model\")"
   ]
  },
  {
   "cell_type": "markdown",
   "metadata": {},
   "source": [
    "# Model"
   ]
  },
  {
   "cell_type": "code",
   "execution_count": 51,
   "metadata": {},
   "outputs": [
    {
     "name": "stderr",
     "output_type": "stream",
     "text": [
      "2024/04/24 19:43:30 INFO mlflow.utils.autologging_utils: Created MLflow autologging run with ID '6d6154182c894394830bf9ea7b169c8c', which will track hyperparameters, performance metrics, model artifacts, and lineage information for the current sklearn workflow\n",
      "2024/04/24 19:43:30 WARNING mlflow.sklearn: Failed to log training dataset information to MLflow Tracking. Reason: 'Series' object has no attribute 'flatten'\n"
     ]
    },
    {
     "name": "stdout",
     "output_type": "stream",
     "text": [
      "Fitting 3 folds for each of 24 candidates, totalling 72 fits\n"
     ]
    },
    {
     "name": "stderr",
     "output_type": "stream",
     "text": [
      "2024/04/24 19:43:36 INFO mlflow.sklearn.utils: Logging the 5 best runs, 19 runs will be omitted.\n",
      "/Users/kellyliu/anaconda3/lib/python3.11/site-packages/xgboost/core.py:160: UserWarning: [19:43:36] WARNING: /Users/runner/work/xgboost/xgboost/src/c_api/c_api.cc:1240: Saving into deprecated binary model format, please consider using `json` or `ubj`. Model format will default to JSON in XGBoost 2.2 if not specified.\n",
      "  warnings.warn(smsg, UserWarning)\n"
     ]
    },
    {
     "name": "stdout",
     "output_type": "stream",
     "text": [
      "              precision    recall  f1-score   support\n",
      "\n",
      "           0       0.96      0.97      0.97       180\n",
      "           1       0.98      0.95      0.97       146\n",
      "           2       0.91      0.93      0.92       121\n",
      "\n",
      "    accuracy                           0.95       447\n",
      "   macro avg       0.95      0.95      0.95       447\n",
      "weighted avg       0.95      0.95      0.95       447\n",
      "\n",
      "Best parameters found:  {'learning_rate': 0.1, 'max_depth': 5, 'n_estimators': 50, 'subsample': 0.5}\n",
      "Accuracy:  0.9530201342281879\n"
     ]
    }
   ],
   "source": [
    "import numpy as np\n",
    "import pandas as pd\n",
    "import matplotlib.pyplot as plt\n",
    "import xgboost as xgb \n",
    "from sklearn.model_selection import train_test_split, GridSearchCV\n",
    "from sklearn.preprocessing import MinMaxScaler\n",
    "from sklearn.metrics import classification_report, accuracy_score\n",
    "import mlflow\n",
    "from mlflow.models import infer_signature\n",
    "\n",
    "# Enable auto logging\n",
    "mlflow.xgboost.autolog()\n",
    "\n",
    "# Data loading\n",
    "path = \"https://raw.githubusercontent.com/McGill-MMA-EnterpriseAnalytics/Customer-Personality-Analysis-2.0/main/Data/Clustered%20Data/Clustered_Data(FCM).csv?token=GHSAT0AAAAAACL3VCJAJEBP7YLR57PARZ2CZRJTHGA\"\n",
    "df = pd.read_csv(path)\n",
    "X = df.drop(['ID', 'Cluster'], axis=1)  # Drop the ID and Clusters column\n",
    "y = df['Cluster']\n",
    "\n",
    "# Split the data\n",
    "X_train, X_test, y_train, y_test = train_test_split(X, y, test_size=0.2, random_state=42)\n",
    "\n",
    "# Feature scaling\n",
    "scaler = MinMaxScaler()\n",
    "X_train_scaled = scaler.fit_transform(X_train)\n",
    "X_test_scaled = scaler.transform(X_test)\n",
    "\n",
    "# Define the model parameters for grid search\n",
    "params = {\n",
    "    \"max_depth\": [3, 5],\n",
    "    \"learning_rate\": [0.01, 0.1],\n",
    "    \"n_estimators\": [10, 50],\n",
    "    \"subsample\": [0.5, 0.7, 1.0]\n",
    "}\n",
    "\n",
    "# Initialize the classifier\n",
    "xgb_clf = xgb.XGBClassifier(objective='multi:softprob', random_state=42)  # Updated model initialization\n",
    "\n",
    "# Setup GridSearchCV\n",
    "grid_search = GridSearchCV(xgb_clf, param_grid=params, scoring='accuracy', cv=3, verbose=1)\n",
    "\n",
    "# Fit the model\n",
    "grid_search.fit(X_train_scaled, y_train)\n",
    "\n",
    "# Best estimator\n",
    "best_clf = grid_search.best_estimator_\n",
    "\n",
    "# Predictions and accuracy\n",
    "y_pred = best_clf.predict(X_test_scaled)\n",
    "print(classification_report(y_test, y_pred))\n",
    "accuracy = accuracy_score(y_test, y_pred)\n",
    "\n",
    "# Logging the best parameters and accuracy\n",
    "mlflow.log_params(grid_search.best_params_)\n",
    "mlflow.log_metric(\"accuracy\", accuracy)\n",
    "\n",
    "# Log the model with signature\n",
    "signature = infer_signature(X_train_scaled, y_test.values.reshape(-1,1)) \n",
    "mlflow.xgboost.log_model(best_clf, \"model\", signature=signature)\n",
    "\n",
    "print(\"Best parameters found: \", grid_search.best_params_)\n",
    "print(\"Accuracy: \", accuracy)"
   ]
  },
  {
   "cell_type": "code",
   "execution_count": 52,
   "metadata": {},
   "outputs": [
    {
     "ename": "Exception",
     "evalue": "Run with UUID c83e08b06dbc4957acdfacf78c435ead is already active. To start a new run, first end the current run with mlflow.end_run(). To start a nested run, call start_run with nested=True",
     "output_type": "error",
     "traceback": [
      "\u001b[0;31m---------------------------------------------------------------------------\u001b[0m",
      "\u001b[0;31mException\u001b[0m                                 Traceback (most recent call last)",
      "Cell \u001b[0;32mIn[52], line 3\u001b[0m\n\u001b[1;32m      1\u001b[0m \u001b[38;5;28;01mimport\u001b[39;00m \u001b[38;5;21;01mmlflow\u001b[39;00m\u001b[38;5;21;01m.\u001b[39;00m\u001b[38;5;21;01msklearn\u001b[39;00m\n\u001b[0;32m----> 3\u001b[0m \u001b[38;5;28;01mwith\u001b[39;00m mlflow\u001b[38;5;241m.\u001b[39mstart_run():\n\u001b[1;32m      4\u001b[0m     \u001b[38;5;66;03m# Log parameters and metrics\u001b[39;00m\n\u001b[1;32m      5\u001b[0m     mlflow\u001b[38;5;241m.\u001b[39mlog_params(params)\n\u001b[1;32m      6\u001b[0m     mlflow\u001b[38;5;241m.\u001b[39mlog_metric(\u001b[38;5;124m\"\u001b[39m\u001b[38;5;124maccuracy\u001b[39m\u001b[38;5;124m\"\u001b[39m, accuracy)\n",
      "File \u001b[0;32m~/anaconda3/lib/python3.11/site-packages/mlflow/tracking/fluent.py:306\u001b[0m, in \u001b[0;36mstart_run\u001b[0;34m(run_id, experiment_id, run_name, nested, tags, description, log_system_metrics)\u001b[0m\n\u001b[1;32m    304\u001b[0m experiment_id \u001b[38;5;241m=\u001b[39m \u001b[38;5;28mstr\u001b[39m(experiment_id) \u001b[38;5;28;01mif\u001b[39;00m \u001b[38;5;28misinstance\u001b[39m(experiment_id, \u001b[38;5;28mint\u001b[39m) \u001b[38;5;28;01melse\u001b[39;00m experiment_id\n\u001b[1;32m    305\u001b[0m \u001b[38;5;28;01mif\u001b[39;00m \u001b[38;5;28mlen\u001b[39m(_active_run_stack) \u001b[38;5;241m>\u001b[39m \u001b[38;5;241m0\u001b[39m \u001b[38;5;129;01mand\u001b[39;00m \u001b[38;5;129;01mnot\u001b[39;00m nested:\n\u001b[0;32m--> 306\u001b[0m     \u001b[38;5;28;01mraise\u001b[39;00m \u001b[38;5;167;01mException\u001b[39;00m(\n\u001b[1;32m    307\u001b[0m         (\n\u001b[1;32m    308\u001b[0m             \u001b[38;5;124m\"\u001b[39m\u001b[38;5;124mRun with UUID \u001b[39m\u001b[38;5;132;01m{}\u001b[39;00m\u001b[38;5;124m is already active. To start a new run, first end the \u001b[39m\u001b[38;5;124m\"\u001b[39m\n\u001b[1;32m    309\u001b[0m             \u001b[38;5;241m+\u001b[39m \u001b[38;5;124m\"\u001b[39m\u001b[38;5;124mcurrent run with mlflow.end_run(). To start a nested \u001b[39m\u001b[38;5;124m\"\u001b[39m\n\u001b[1;32m    310\u001b[0m             \u001b[38;5;241m+\u001b[39m \u001b[38;5;124m\"\u001b[39m\u001b[38;5;124mrun, call start_run with nested=True\u001b[39m\u001b[38;5;124m\"\u001b[39m\n\u001b[1;32m    311\u001b[0m         )\u001b[38;5;241m.\u001b[39mformat(_active_run_stack[\u001b[38;5;241m0\u001b[39m]\u001b[38;5;241m.\u001b[39minfo\u001b[38;5;241m.\u001b[39mrun_id)\n\u001b[1;32m    312\u001b[0m     )\n\u001b[1;32m    313\u001b[0m client \u001b[38;5;241m=\u001b[39m MlflowClient()\n\u001b[1;32m    314\u001b[0m \u001b[38;5;28;01mif\u001b[39;00m run_id:\n",
      "\u001b[0;31mException\u001b[0m: Run with UUID c83e08b06dbc4957acdfacf78c435ead is already active. To start a new run, first end the current run with mlflow.end_run(). To start a nested run, call start_run with nested=True"
     ]
    }
   ],
   "source": [
    "import mlflow.sklearn\n",
    "\n",
    "with mlflow.start_run():\n",
    "    # Log parameters and metrics\n",
    "    mlflow.log_params(params)\n",
    "    mlflow.log_metric(\"accuracy\", accuracy)\n",
    "\n",
    "    # Set a tag describing the run\n",
    "    mlflow.set_tag(\"Training Info\", \"Model for Customer Segment Prediction\")\n",
    "\n",
    "    # Infer signature of the input and output of the model\n",
    "    signature = infer_signature(X_train_scaled, y_pred)\n",
    "    \n",
    "    # Log the model and register it in the MLflow model registry under the name \"Customer_Segment_Prediction_Model\"\n",
    "    mlflow.sklearn.log_model(\n",
    "        sk_model=best_clf,\n",
    "        artifact_path=\"model\",\n",
    "        registered_model_name=\"Customer_Segment_Prediction_Model\"\n",
    "    )\n"
   ]
  },
  {
   "cell_type": "code",
   "execution_count": 56,
   "metadata": {},
   "outputs": [
    {
     "name": "stderr",
     "output_type": "stream",
     "text": [
      "/Users/kellyliu/anaconda3/lib/python3.11/site-packages/mlflow/store/artifact/utils/models.py:32: FutureWarning: ``mlflow.tracking.client.MlflowClient.get_latest_versions`` is deprecated since 2.9.0. Model registry stages will be removed in a future major release. To learn more about the deprecation of model registry stages, see our migration guide here: https://mlflow.org/docs/2.12.1/model-registry.html#migrating-from-stages\n",
      "  latest = client.get_latest_versions(name, None if stage is None else [stage])\n"
     ]
    },
    {
     "data": {
      "application/vnd.jupyter.widget-view+json": {
       "model_id": "65f3995c1b074da6916027fce3a76e54",
       "version_major": 2,
       "version_minor": 0
      },
      "text/plain": [
       "Downloading artifacts:   0%|          | 0/9 [00:00<?, ?it/s]"
      ]
     },
     "metadata": {},
     "output_type": "display_data"
    }
   ],
   "source": [
    "# Model retrieval and prediction check\n",
    "loaded_model = mlflow.pyfunc.load_model(f\"models:/Customer_Segment_Prediction_Model/Production\")\n",
    "input_data = X_test_scaled[0:1]\n",
    "predictions = loaded_model.predict(input_data)"
   ]
  },
  {
   "cell_type": "code",
   "execution_count": 58,
   "metadata": {},
   "outputs": [
    {
     "name": "stdout",
     "output_type": "stream",
     "text": [
      "Model predictions:  [2]\n"
     ]
    }
   ],
   "source": [
    "print(\"Model predictions: \", predictions)"
   ]
  }
 ],
 "metadata": {
  "kernelspec": {
   "display_name": "base",
   "language": "python",
   "name": "python3"
  },
  "language_info": {
   "codemirror_mode": {
    "name": "ipython",
    "version": 3
   },
   "file_extension": ".py",
   "mimetype": "text/x-python",
   "name": "python",
   "nbconvert_exporter": "python",
   "pygments_lexer": "ipython3",
   "version": "3.11.5"
  }
 },
 "nbformat": 4,
 "nbformat_minor": 2
}
