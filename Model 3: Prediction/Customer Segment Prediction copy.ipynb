{
 "cells": [
  {
   "cell_type": "markdown",
   "metadata": {},
   "source": [
    "# productionize customer segment prediction model\n",
    "\n",
    "1. Model Registration\n",
    "2. Model Tracking \n",
    "3. Auto Logging\n"
   ]
  },
  {
   "cell_type": "code",
   "execution_count": 5,
   "metadata": {},
   "outputs": [
    {
     "name": "stdout",
     "output_type": "stream",
     "text": [
      "Requirement already satisfied: mlflow in /Users/kellyliu/anaconda3/lib/python3.11/site-packages (2.12.1)\n",
      "Requirement already satisfied: Flask<4 in /Users/kellyliu/anaconda3/lib/python3.11/site-packages (from mlflow) (2.2.2)\n",
      "Requirement already satisfied: alembic!=1.10.0,<2 in /Users/kellyliu/anaconda3/lib/python3.11/site-packages (from mlflow) (1.13.1)\n",
      "Requirement already satisfied: click<9,>=7.0 in /Users/kellyliu/anaconda3/lib/python3.11/site-packages (from mlflow) (8.0.4)\n",
      "Requirement already satisfied: cloudpickle<4 in /Users/kellyliu/anaconda3/lib/python3.11/site-packages (from mlflow) (2.2.1)\n",
      "Requirement already satisfied: docker<8,>=4.0.0 in /Users/kellyliu/anaconda3/lib/python3.11/site-packages (from mlflow) (7.0.0)\n",
      "Requirement already satisfied: entrypoints<1 in /Users/kellyliu/anaconda3/lib/python3.11/site-packages (from mlflow) (0.4)\n",
      "Requirement already satisfied: gitpython<4,>=3.1.9 in /Users/kellyliu/anaconda3/lib/python3.11/site-packages (from mlflow) (3.1.42)\n",
      "Requirement already satisfied: graphene<4 in /Users/kellyliu/anaconda3/lib/python3.11/site-packages (from mlflow) (3.3)\n",
      "Requirement already satisfied: importlib-metadata!=4.7.0,<8,>=3.7.0 in /Users/kellyliu/anaconda3/lib/python3.11/site-packages (from mlflow) (6.0.0)\n",
      "Requirement already satisfied: markdown<4,>=3.3 in /Users/kellyliu/anaconda3/lib/python3.11/site-packages (from mlflow) (3.4.1)\n",
      "Requirement already satisfied: matplotlib<4 in /Users/kellyliu/anaconda3/lib/python3.11/site-packages (from mlflow) (3.7.2)\n",
      "Requirement already satisfied: numpy<2 in /Users/kellyliu/anaconda3/lib/python3.11/site-packages (from mlflow) (1.24.4)\n",
      "Requirement already satisfied: packaging<25 in /Users/kellyliu/anaconda3/lib/python3.11/site-packages (from mlflow) (23.1)\n",
      "Requirement already satisfied: pandas<3 in /Users/kellyliu/anaconda3/lib/python3.11/site-packages (from mlflow) (2.0.3)\n",
      "Requirement already satisfied: protobuf<6,>=3.12.0 in /Users/kellyliu/anaconda3/lib/python3.11/site-packages (from mlflow) (4.25.3)\n",
      "Requirement already satisfied: pyarrow<16,>=4.0.0 in /Users/kellyliu/anaconda3/lib/python3.11/site-packages (from mlflow) (11.0.0)\n",
      "Requirement already satisfied: pytz<2025 in /Users/kellyliu/anaconda3/lib/python3.11/site-packages (from mlflow) (2023.3.post1)\n",
      "Requirement already satisfied: pyyaml<7,>=5.1 in /Users/kellyliu/anaconda3/lib/python3.11/site-packages (from mlflow) (6.0)\n",
      "Requirement already satisfied: querystring-parser<2 in /Users/kellyliu/anaconda3/lib/python3.11/site-packages (from mlflow) (1.2.4)\n",
      "Requirement already satisfied: requests<3,>=2.17.3 in /Users/kellyliu/anaconda3/lib/python3.11/site-packages (from mlflow) (2.31.0)\n",
      "Requirement already satisfied: scikit-learn<2 in /Users/kellyliu/anaconda3/lib/python3.11/site-packages (from mlflow) (1.4.1.post1)\n",
      "Requirement already satisfied: scipy<2 in /Users/kellyliu/anaconda3/lib/python3.11/site-packages (from mlflow) (1.12.0)\n",
      "Requirement already satisfied: sqlalchemy<3,>=1.4.0 in /Users/kellyliu/anaconda3/lib/python3.11/site-packages (from mlflow) (1.4.39)\n",
      "Requirement already satisfied: sqlparse<1,>=0.4.0 in /Users/kellyliu/anaconda3/lib/python3.11/site-packages (from mlflow) (0.5.0)\n",
      "Requirement already satisfied: Jinja2<4,>=2.11 in /Users/kellyliu/anaconda3/lib/python3.11/site-packages (from mlflow) (3.1.2)\n",
      "Requirement already satisfied: gunicorn<22 in /Users/kellyliu/anaconda3/lib/python3.11/site-packages (from mlflow) (21.2.0)\n",
      "Requirement already satisfied: Mako in /Users/kellyliu/anaconda3/lib/python3.11/site-packages (from alembic!=1.10.0,<2->mlflow) (1.3.3)\n",
      "Requirement already satisfied: typing-extensions>=4 in /Users/kellyliu/anaconda3/lib/python3.11/site-packages (from alembic!=1.10.0,<2->mlflow) (4.11.0)\n",
      "Requirement already satisfied: urllib3>=1.26.0 in /Users/kellyliu/anaconda3/lib/python3.11/site-packages (from docker<8,>=4.0.0->mlflow) (1.26.16)\n",
      "Requirement already satisfied: Werkzeug>=2.2.2 in /Users/kellyliu/anaconda3/lib/python3.11/site-packages (from Flask<4->mlflow) (2.2.3)\n",
      "Requirement already satisfied: itsdangerous>=2.0 in /Users/kellyliu/anaconda3/lib/python3.11/site-packages (from Flask<4->mlflow) (2.0.1)\n",
      "Requirement already satisfied: gitdb<5,>=4.0.1 in /Users/kellyliu/anaconda3/lib/python3.11/site-packages (from gitpython<4,>=3.1.9->mlflow) (4.0.11)\n",
      "Requirement already satisfied: graphql-core<3.3,>=3.1 in /Users/kellyliu/anaconda3/lib/python3.11/site-packages (from graphene<4->mlflow) (3.2.3)\n",
      "Requirement already satisfied: graphql-relay<3.3,>=3.1 in /Users/kellyliu/anaconda3/lib/python3.11/site-packages (from graphene<4->mlflow) (3.2.0)\n",
      "Requirement already satisfied: aniso8601<10,>=8 in /Users/kellyliu/anaconda3/lib/python3.11/site-packages (from graphene<4->mlflow) (9.0.1)\n",
      "Requirement already satisfied: zipp>=0.5 in /Users/kellyliu/anaconda3/lib/python3.11/site-packages (from importlib-metadata!=4.7.0,<8,>=3.7.0->mlflow) (3.11.0)\n",
      "Requirement already satisfied: MarkupSafe>=2.0 in /Users/kellyliu/anaconda3/lib/python3.11/site-packages (from Jinja2<4,>=2.11->mlflow) (2.1.1)\n",
      "Requirement already satisfied: contourpy>=1.0.1 in /Users/kellyliu/anaconda3/lib/python3.11/site-packages (from matplotlib<4->mlflow) (1.0.5)\n",
      "Requirement already satisfied: cycler>=0.10 in /Users/kellyliu/anaconda3/lib/python3.11/site-packages (from matplotlib<4->mlflow) (0.11.0)\n",
      "Requirement already satisfied: fonttools>=4.22.0 in /Users/kellyliu/anaconda3/lib/python3.11/site-packages (from matplotlib<4->mlflow) (4.25.0)\n",
      "Requirement already satisfied: kiwisolver>=1.0.1 in /Users/kellyliu/anaconda3/lib/python3.11/site-packages (from matplotlib<4->mlflow) (1.4.4)\n",
      "Requirement already satisfied: pillow>=6.2.0 in /Users/kellyliu/anaconda3/lib/python3.11/site-packages (from matplotlib<4->mlflow) (9.4.0)\n",
      "Requirement already satisfied: pyparsing<3.1,>=2.3.1 in /Users/kellyliu/anaconda3/lib/python3.11/site-packages (from matplotlib<4->mlflow) (3.0.9)\n",
      "Requirement already satisfied: python-dateutil>=2.7 in /Users/kellyliu/anaconda3/lib/python3.11/site-packages (from matplotlib<4->mlflow) (2.8.2)\n",
      "Requirement already satisfied: tzdata>=2022.1 in /Users/kellyliu/anaconda3/lib/python3.11/site-packages (from pandas<3->mlflow) (2023.3)\n",
      "Requirement already satisfied: six in /Users/kellyliu/anaconda3/lib/python3.11/site-packages (from querystring-parser<2->mlflow) (1.16.0)\n",
      "Requirement already satisfied: charset-normalizer<4,>=2 in /Users/kellyliu/anaconda3/lib/python3.11/site-packages (from requests<3,>=2.17.3->mlflow) (2.0.4)\n",
      "Requirement already satisfied: idna<4,>=2.5 in /Users/kellyliu/anaconda3/lib/python3.11/site-packages (from requests<3,>=2.17.3->mlflow) (3.4)\n",
      "Requirement already satisfied: certifi>=2017.4.17 in /Users/kellyliu/anaconda3/lib/python3.11/site-packages (from requests<3,>=2.17.3->mlflow) (2024.2.2)\n",
      "Requirement already satisfied: joblib>=1.2.0 in /Users/kellyliu/anaconda3/lib/python3.11/site-packages (from scikit-learn<2->mlflow) (1.2.0)\n",
      "Requirement already satisfied: threadpoolctl>=2.0.0 in /Users/kellyliu/anaconda3/lib/python3.11/site-packages (from scikit-learn<2->mlflow) (3.1.0)\n",
      "Requirement already satisfied: smmap<6,>=3.0.1 in /Users/kellyliu/anaconda3/lib/python3.11/site-packages (from gitdb<5,>=4.0.1->gitpython<4,>=3.1.9->mlflow) (5.0.1)\n",
      "Note: you may need to restart the kernel to use updated packages.\n"
     ]
    }
   ],
   "source": [
    "pip install --upgrade mlflow"
   ]
  },
  {
   "cell_type": "markdown",
   "metadata": {},
   "source": [
    "# mlflow tracking: Setup new experiment"
   ]
  },
  {
   "cell_type": "code",
   "execution_count": 6,
   "metadata": {},
   "outputs": [
    {
     "data": {
      "text/plain": [
       "<Experiment: artifact_location='mlflow-artifacts:/991329419849384240', creation_time=1714001602979, experiment_id='991329419849384240', last_update_time=1714001602979, lifecycle_stage='active', name='Customer_Segment_Prediction_Model', tags={}>"
      ]
     },
     "execution_count": 6,
     "metadata": {},
     "output_type": "execute_result"
    }
   ],
   "source": [
    "import mlflow\n",
    "import mlflow.sklearn\n",
    "import mlflow.pyfunc\n",
    "\n",
    "# MLflow tracking\n",
    "mlflow.set_tracking_uri(\"http://127.0.0.1:5000\")\n",
    "mlflow.set_experiment(\"Customer_Segment_Prediction_Model\")"
   ]
  },
  {
   "cell_type": "markdown",
   "metadata": {},
   "source": [
    "# Model Traning"
   ]
  },
  {
   "cell_type": "code",
   "execution_count": 7,
   "metadata": {},
   "outputs": [
    {
     "name": "stderr",
     "output_type": "stream",
     "text": [
      "2024/04/26 02:12:29 INFO mlflow.utils.autologging_utils: Created MLflow autologging run with ID '54691f065809466d81eb459b6682bd2d', which will track hyperparameters, performance metrics, model artifacts, and lineage information for the current xgboost workflow\n",
      "2024/04/26 02:12:29 WARNING mlflow.utils.autologging_utils: MLflow autologging encountered a warning: \"/Users/kellyliu/anaconda3/lib/python3.11/site-packages/xgboost/core.py:160: UserWarning: [02:12:29] WARNING: /Users/runner/work/xgboost/xgboost/src/c_api/c_api.cc:1240: Saving into deprecated binary model format, please consider using `json` or `ubj`. Model format will default to JSON in XGBoost 2.2 if not specified.\"\n"
     ]
    },
    {
     "name": "stdout",
     "output_type": "stream",
     "text": [
      "Fitting 2 folds for each of 24 candidates, totalling 48 fits\n"
     ]
    },
    {
     "name": "stderr",
     "output_type": "stream",
     "text": [
      "2024/04/26 02:12:31 WARNING mlflow.utils.autologging_utils: MLflow autologging encountered a warning: \"/Users/kellyliu/anaconda3/lib/python3.11/site-packages/_distutils_hack/__init__.py:33: UserWarning: Setuptools is replacing distutils.\"\n",
      "2024/04/26 02:12:31 INFO mlflow.utils.autologging_utils: Created MLflow autologging run with ID '43aeb7046acb485ca60ec8e6b2c59dbb', which will track hyperparameters, performance metrics, model artifacts, and lineage information for the current xgboost workflow\n",
      "2024/04/26 02:12:31 WARNING mlflow.utils.autologging_utils: MLflow autologging encountered a warning: \"/Users/kellyliu/anaconda3/lib/python3.11/site-packages/xgboost/core.py:160: UserWarning: [02:12:31] WARNING: /Users/runner/work/xgboost/xgboost/src/c_api/c_api.cc:1240: Saving into deprecated binary model format, please consider using `json` or `ubj`. Model format will default to JSON in XGBoost 2.2 if not specified.\"\n",
      "2024/04/26 02:12:32 INFO mlflow.utils.autologging_utils: Created MLflow autologging run with ID 'b19313b6dbe64b50aca0d5d9fa10270c', which will track hyperparameters, performance metrics, model artifacts, and lineage information for the current xgboost workflow\n",
      "2024/04/26 02:12:32 WARNING mlflow.utils.autologging_utils: MLflow autologging encountered a warning: \"/Users/kellyliu/anaconda3/lib/python3.11/site-packages/xgboost/core.py:160: UserWarning: [02:12:32] WARNING: /Users/runner/work/xgboost/xgboost/src/c_api/c_api.cc:1240: Saving into deprecated binary model format, please consider using `json` or `ubj`. Model format will default to JSON in XGBoost 2.2 if not specified.\"\n",
      "2024/04/26 02:12:33 INFO mlflow.utils.autologging_utils: Created MLflow autologging run with ID '9a15e12949e84e6b89fd3cf3f54bb648', which will track hyperparameters, performance metrics, model artifacts, and lineage information for the current xgboost workflow\n",
      "2024/04/26 02:12:33 WARNING mlflow.utils.autologging_utils: MLflow autologging encountered a warning: \"/Users/kellyliu/anaconda3/lib/python3.11/site-packages/xgboost/core.py:160: UserWarning: [02:12:33] WARNING: /Users/runner/work/xgboost/xgboost/src/c_api/c_api.cc:1240: Saving into deprecated binary model format, please consider using `json` or `ubj`. Model format will default to JSON in XGBoost 2.2 if not specified.\"\n",
      "2024/04/26 02:12:35 INFO mlflow.utils.autologging_utils: Created MLflow autologging run with ID '6bec833cf6b64caea4beb77fbb171218', which will track hyperparameters, performance metrics, model artifacts, and lineage information for the current xgboost workflow\n",
      "2024/04/26 02:12:35 WARNING mlflow.utils.autologging_utils: MLflow autologging encountered a warning: \"/Users/kellyliu/anaconda3/lib/python3.11/site-packages/xgboost/core.py:160: UserWarning: [02:12:35] WARNING: /Users/runner/work/xgboost/xgboost/src/c_api/c_api.cc:1240: Saving into deprecated binary model format, please consider using `json` or `ubj`. Model format will default to JSON in XGBoost 2.2 if not specified.\"\n",
      "2024/04/26 02:12:37 INFO mlflow.utils.autologging_utils: Created MLflow autologging run with ID '0e3963ddf6e04b49ad5aa66edb590656', which will track hyperparameters, performance metrics, model artifacts, and lineage information for the current xgboost workflow\n",
      "2024/04/26 02:12:37 WARNING mlflow.utils.autologging_utils: MLflow autologging encountered a warning: \"/Users/kellyliu/anaconda3/lib/python3.11/site-packages/xgboost/core.py:160: UserWarning: [02:12:37] WARNING: /Users/runner/work/xgboost/xgboost/src/c_api/c_api.cc:1240: Saving into deprecated binary model format, please consider using `json` or `ubj`. Model format will default to JSON in XGBoost 2.2 if not specified.\"\n",
      "2024/04/26 02:12:38 INFO mlflow.utils.autologging_utils: Created MLflow autologging run with ID 'ef1f68dc95fe42e5966cc53ad324336f', which will track hyperparameters, performance metrics, model artifacts, and lineage information for the current xgboost workflow\n",
      "2024/04/26 02:12:38 WARNING mlflow.utils.autologging_utils: MLflow autologging encountered a warning: \"/Users/kellyliu/anaconda3/lib/python3.11/site-packages/xgboost/core.py:160: UserWarning: [02:12:38] WARNING: /Users/runner/work/xgboost/xgboost/src/c_api/c_api.cc:1240: Saving into deprecated binary model format, please consider using `json` or `ubj`. Model format will default to JSON in XGBoost 2.2 if not specified.\"\n",
      "2024/04/26 02:12:40 INFO mlflow.utils.autologging_utils: Created MLflow autologging run with ID '9d4c7bbed1ee4259bd320fc31a524971', which will track hyperparameters, performance metrics, model artifacts, and lineage information for the current xgboost workflow\n",
      "2024/04/26 02:12:40 WARNING mlflow.utils.autologging_utils: MLflow autologging encountered a warning: \"/Users/kellyliu/anaconda3/lib/python3.11/site-packages/xgboost/core.py:160: UserWarning: [02:12:40] WARNING: /Users/runner/work/xgboost/xgboost/src/c_api/c_api.cc:1240: Saving into deprecated binary model format, please consider using `json` or `ubj`. Model format will default to JSON in XGBoost 2.2 if not specified.\"\n",
      "2024/04/26 02:12:41 INFO mlflow.utils.autologging_utils: Created MLflow autologging run with ID 'b30ef951641844c4a249b416a158ddfe', which will track hyperparameters, performance metrics, model artifacts, and lineage information for the current xgboost workflow\n",
      "2024/04/26 02:12:41 WARNING mlflow.utils.autologging_utils: MLflow autologging encountered a warning: \"/Users/kellyliu/anaconda3/lib/python3.11/site-packages/xgboost/core.py:160: UserWarning: [02:12:41] WARNING: /Users/runner/work/xgboost/xgboost/src/c_api/c_api.cc:1240: Saving into deprecated binary model format, please consider using `json` or `ubj`. Model format will default to JSON in XGBoost 2.2 if not specified.\"\n",
      "2024/04/26 02:12:43 INFO mlflow.utils.autologging_utils: Created MLflow autologging run with ID '8fb673f8fd6749498fc50864aaa3bf06', which will track hyperparameters, performance metrics, model artifacts, and lineage information for the current xgboost workflow\n",
      "2024/04/26 02:12:43 WARNING mlflow.utils.autologging_utils: MLflow autologging encountered a warning: \"/Users/kellyliu/anaconda3/lib/python3.11/site-packages/xgboost/core.py:160: UserWarning: [02:12:43] WARNING: /Users/runner/work/xgboost/xgboost/src/c_api/c_api.cc:1240: Saving into deprecated binary model format, please consider using `json` or `ubj`. Model format will default to JSON in XGBoost 2.2 if not specified.\"\n",
      "2024/04/26 02:12:44 INFO mlflow.utils.autologging_utils: Created MLflow autologging run with ID '2c757d9f626b4b668d7899a708a4f058', which will track hyperparameters, performance metrics, model artifacts, and lineage information for the current xgboost workflow\n",
      "2024/04/26 02:12:44 WARNING mlflow.utils.autologging_utils: MLflow autologging encountered a warning: \"/Users/kellyliu/anaconda3/lib/python3.11/site-packages/xgboost/core.py:160: UserWarning: [02:12:44] WARNING: /Users/runner/work/xgboost/xgboost/src/c_api/c_api.cc:1240: Saving into deprecated binary model format, please consider using `json` or `ubj`. Model format will default to JSON in XGBoost 2.2 if not specified.\"\n",
      "2024/04/26 02:12:45 INFO mlflow.utils.autologging_utils: Created MLflow autologging run with ID 'e885b3b78f46465db15ba40705f899d8', which will track hyperparameters, performance metrics, model artifacts, and lineage information for the current xgboost workflow\n",
      "2024/04/26 02:12:45 WARNING mlflow.utils.autologging_utils: MLflow autologging encountered a warning: \"/Users/kellyliu/anaconda3/lib/python3.11/site-packages/xgboost/core.py:160: UserWarning: [02:12:45] WARNING: /Users/runner/work/xgboost/xgboost/src/c_api/c_api.cc:1240: Saving into deprecated binary model format, please consider using `json` or `ubj`. Model format will default to JSON in XGBoost 2.2 if not specified.\"\n",
      "2024/04/26 02:12:47 INFO mlflow.utils.autologging_utils: Created MLflow autologging run with ID 'fe542b8645034362adef07ded22fc5ed', which will track hyperparameters, performance metrics, model artifacts, and lineage information for the current xgboost workflow\n",
      "2024/04/26 02:12:47 WARNING mlflow.utils.autologging_utils: MLflow autologging encountered a warning: \"/Users/kellyliu/anaconda3/lib/python3.11/site-packages/xgboost/core.py:160: UserWarning: [02:12:47] WARNING: /Users/runner/work/xgboost/xgboost/src/c_api/c_api.cc:1240: Saving into deprecated binary model format, please consider using `json` or `ubj`. Model format will default to JSON in XGBoost 2.2 if not specified.\"\n",
      "2024/04/26 02:12:48 INFO mlflow.utils.autologging_utils: Created MLflow autologging run with ID 'c58d1d2426fa4ff58d1569c0cd11ced2', which will track hyperparameters, performance metrics, model artifacts, and lineage information for the current xgboost workflow\n",
      "2024/04/26 02:12:48 WARNING mlflow.utils.autologging_utils: MLflow autologging encountered a warning: \"/Users/kellyliu/anaconda3/lib/python3.11/site-packages/xgboost/core.py:160: UserWarning: [02:12:48] WARNING: /Users/runner/work/xgboost/xgboost/src/c_api/c_api.cc:1240: Saving into deprecated binary model format, please consider using `json` or `ubj`. Model format will default to JSON in XGBoost 2.2 if not specified.\"\n",
      "2024/04/26 02:12:49 INFO mlflow.utils.autologging_utils: Created MLflow autologging run with ID 'f0a1fd755a104dfcb280e8865586b367', which will track hyperparameters, performance metrics, model artifacts, and lineage information for the current xgboost workflow\n",
      "2024/04/26 02:12:49 WARNING mlflow.utils.autologging_utils: MLflow autologging encountered a warning: \"/Users/kellyliu/anaconda3/lib/python3.11/site-packages/xgboost/core.py:160: UserWarning: [02:12:49] WARNING: /Users/runner/work/xgboost/xgboost/src/c_api/c_api.cc:1240: Saving into deprecated binary model format, please consider using `json` or `ubj`. Model format will default to JSON in XGBoost 2.2 if not specified.\"\n",
      "2024/04/26 02:12:51 INFO mlflow.utils.autologging_utils: Created MLflow autologging run with ID '64d1f1171c9d4910a25c6a23fa6f8f24', which will track hyperparameters, performance metrics, model artifacts, and lineage information for the current xgboost workflow\n",
      "2024/04/26 02:12:51 WARNING mlflow.utils.autologging_utils: MLflow autologging encountered a warning: \"/Users/kellyliu/anaconda3/lib/python3.11/site-packages/xgboost/core.py:160: UserWarning: [02:12:51] WARNING: /Users/runner/work/xgboost/xgboost/src/c_api/c_api.cc:1240: Saving into deprecated binary model format, please consider using `json` or `ubj`. Model format will default to JSON in XGBoost 2.2 if not specified.\"\n",
      "2024/04/26 02:12:52 INFO mlflow.utils.autologging_utils: Created MLflow autologging run with ID '29f9775828174dcb9a47e4e19b5e9192', which will track hyperparameters, performance metrics, model artifacts, and lineage information for the current xgboost workflow\n",
      "2024/04/26 02:12:52 WARNING mlflow.utils.autologging_utils: MLflow autologging encountered a warning: \"/Users/kellyliu/anaconda3/lib/python3.11/site-packages/xgboost/core.py:160: UserWarning: [02:12:52] WARNING: /Users/runner/work/xgboost/xgboost/src/c_api/c_api.cc:1240: Saving into deprecated binary model format, please consider using `json` or `ubj`. Model format will default to JSON in XGBoost 2.2 if not specified.\"\n",
      "2024/04/26 02:12:53 INFO mlflow.utils.autologging_utils: Created MLflow autologging run with ID 'ef7fa6fc2dae4a7c9c7afc0f22468dde', which will track hyperparameters, performance metrics, model artifacts, and lineage information for the current xgboost workflow\n",
      "2024/04/26 02:12:53 WARNING mlflow.utils.autologging_utils: MLflow autologging encountered a warning: \"/Users/kellyliu/anaconda3/lib/python3.11/site-packages/xgboost/core.py:160: UserWarning: [02:12:53] WARNING: /Users/runner/work/xgboost/xgboost/src/c_api/c_api.cc:1240: Saving into deprecated binary model format, please consider using `json` or `ubj`. Model format will default to JSON in XGBoost 2.2 if not specified.\"\n",
      "2024/04/26 02:12:55 INFO mlflow.utils.autologging_utils: Created MLflow autologging run with ID '12f1600b061d49b2948c205ad2b08cc8', which will track hyperparameters, performance metrics, model artifacts, and lineage information for the current xgboost workflow\n",
      "2024/04/26 02:12:55 WARNING mlflow.utils.autologging_utils: MLflow autologging encountered a warning: \"/Users/kellyliu/anaconda3/lib/python3.11/site-packages/xgboost/core.py:160: UserWarning: [02:12:55] WARNING: /Users/runner/work/xgboost/xgboost/src/c_api/c_api.cc:1240: Saving into deprecated binary model format, please consider using `json` or `ubj`. Model format will default to JSON in XGBoost 2.2 if not specified.\"\n",
      "2024/04/26 02:12:56 INFO mlflow.utils.autologging_utils: Created MLflow autologging run with ID '1696da6656fb431e8ad10f91cdd03f5c', which will track hyperparameters, performance metrics, model artifacts, and lineage information for the current xgboost workflow\n",
      "2024/04/26 02:12:56 WARNING mlflow.utils.autologging_utils: MLflow autologging encountered a warning: \"/Users/kellyliu/anaconda3/lib/python3.11/site-packages/xgboost/core.py:160: UserWarning: [02:12:56] WARNING: /Users/runner/work/xgboost/xgboost/src/c_api/c_api.cc:1240: Saving into deprecated binary model format, please consider using `json` or `ubj`. Model format will default to JSON in XGBoost 2.2 if not specified.\"\n",
      "2024/04/26 02:12:57 INFO mlflow.utils.autologging_utils: Created MLflow autologging run with ID '782f014632594b129fca20fe192f5f7f', which will track hyperparameters, performance metrics, model artifacts, and lineage information for the current xgboost workflow\n",
      "2024/04/26 02:12:57 WARNING mlflow.utils.autologging_utils: MLflow autologging encountered a warning: \"/Users/kellyliu/anaconda3/lib/python3.11/site-packages/xgboost/core.py:160: UserWarning: [02:12:57] WARNING: /Users/runner/work/xgboost/xgboost/src/c_api/c_api.cc:1240: Saving into deprecated binary model format, please consider using `json` or `ubj`. Model format will default to JSON in XGBoost 2.2 if not specified.\"\n",
      "2024/04/26 02:12:59 INFO mlflow.utils.autologging_utils: Created MLflow autologging run with ID '5b72cca86c3c4d759a291526f3e61d6f', which will track hyperparameters, performance metrics, model artifacts, and lineage information for the current xgboost workflow\n",
      "2024/04/26 02:12:59 WARNING mlflow.utils.autologging_utils: MLflow autologging encountered a warning: \"/Users/kellyliu/anaconda3/lib/python3.11/site-packages/xgboost/core.py:160: UserWarning: [02:12:59] WARNING: /Users/runner/work/xgboost/xgboost/src/c_api/c_api.cc:1240: Saving into deprecated binary model format, please consider using `json` or `ubj`. Model format will default to JSON in XGBoost 2.2 if not specified.\"\n",
      "2024/04/26 02:13:00 INFO mlflow.utils.autologging_utils: Created MLflow autologging run with ID '9c90a78ecfd846a595eb8878b332a4ac', which will track hyperparameters, performance metrics, model artifacts, and lineage information for the current xgboost workflow\n",
      "2024/04/26 02:13:00 WARNING mlflow.utils.autologging_utils: MLflow autologging encountered a warning: \"/Users/kellyliu/anaconda3/lib/python3.11/site-packages/xgboost/core.py:160: UserWarning: [02:13:00] WARNING: /Users/runner/work/xgboost/xgboost/src/c_api/c_api.cc:1240: Saving into deprecated binary model format, please consider using `json` or `ubj`. Model format will default to JSON in XGBoost 2.2 if not specified.\"\n",
      "2024/04/26 02:13:02 INFO mlflow.utils.autologging_utils: Created MLflow autologging run with ID '658d8609f3cc4ab8a33e72885ddece20', which will track hyperparameters, performance metrics, model artifacts, and lineage information for the current xgboost workflow\n",
      "2024/04/26 02:13:02 WARNING mlflow.utils.autologging_utils: MLflow autologging encountered a warning: \"/Users/kellyliu/anaconda3/lib/python3.11/site-packages/xgboost/core.py:160: UserWarning: [02:13:02] WARNING: /Users/runner/work/xgboost/xgboost/src/c_api/c_api.cc:1240: Saving into deprecated binary model format, please consider using `json` or `ubj`. Model format will default to JSON in XGBoost 2.2 if not specified.\"\n",
      "2024/04/26 02:13:03 INFO mlflow.utils.autologging_utils: Created MLflow autologging run with ID '195c239a694643cda030b1541330f57b', which will track hyperparameters, performance metrics, model artifacts, and lineage information for the current xgboost workflow\n",
      "2024/04/26 02:13:03 WARNING mlflow.utils.autologging_utils: MLflow autologging encountered a warning: \"/Users/kellyliu/anaconda3/lib/python3.11/site-packages/xgboost/core.py:160: UserWarning: [02:13:03] WARNING: /Users/runner/work/xgboost/xgboost/src/c_api/c_api.cc:1240: Saving into deprecated binary model format, please consider using `json` or `ubj`. Model format will default to JSON in XGBoost 2.2 if not specified.\"\n",
      "2024/04/26 02:13:04 INFO mlflow.utils.autologging_utils: Created MLflow autologging run with ID '68e581b0552b4271b94910883450c33f', which will track hyperparameters, performance metrics, model artifacts, and lineage information for the current xgboost workflow\n",
      "2024/04/26 02:13:04 WARNING mlflow.utils.autologging_utils: MLflow autologging encountered a warning: \"/Users/kellyliu/anaconda3/lib/python3.11/site-packages/xgboost/core.py:160: UserWarning: [02:13:04] WARNING: /Users/runner/work/xgboost/xgboost/src/c_api/c_api.cc:1240: Saving into deprecated binary model format, please consider using `json` or `ubj`. Model format will default to JSON in XGBoost 2.2 if not specified.\"\n",
      "2024/04/26 02:13:06 INFO mlflow.utils.autologging_utils: Created MLflow autologging run with ID '2f710e7781d74ea993a7fc948e2e03b0', which will track hyperparameters, performance metrics, model artifacts, and lineage information for the current xgboost workflow\n",
      "2024/04/26 02:13:06 WARNING mlflow.utils.autologging_utils: MLflow autologging encountered a warning: \"/Users/kellyliu/anaconda3/lib/python3.11/site-packages/xgboost/core.py:160: UserWarning: [02:13:06] WARNING: /Users/runner/work/xgboost/xgboost/src/c_api/c_api.cc:1240: Saving into deprecated binary model format, please consider using `json` or `ubj`. Model format will default to JSON in XGBoost 2.2 if not specified.\"\n",
      "2024/04/26 02:13:07 INFO mlflow.utils.autologging_utils: Created MLflow autologging run with ID '4fdd49f67820484dbceee3a015a5de1b', which will track hyperparameters, performance metrics, model artifacts, and lineage information for the current xgboost workflow\n",
      "2024/04/26 02:13:07 WARNING mlflow.utils.autologging_utils: MLflow autologging encountered a warning: \"/Users/kellyliu/anaconda3/lib/python3.11/site-packages/xgboost/core.py:160: UserWarning: [02:13:07] WARNING: /Users/runner/work/xgboost/xgboost/src/c_api/c_api.cc:1240: Saving into deprecated binary model format, please consider using `json` or `ubj`. Model format will default to JSON in XGBoost 2.2 if not specified.\"\n",
      "2024/04/26 02:13:09 INFO mlflow.utils.autologging_utils: Created MLflow autologging run with ID 'abfee34c479b4639a98c88057bf08dde', which will track hyperparameters, performance metrics, model artifacts, and lineage information for the current xgboost workflow\n",
      "2024/04/26 02:13:09 WARNING mlflow.utils.autologging_utils: MLflow autologging encountered a warning: \"/Users/kellyliu/anaconda3/lib/python3.11/site-packages/xgboost/core.py:160: UserWarning: [02:13:09] WARNING: /Users/runner/work/xgboost/xgboost/src/c_api/c_api.cc:1240: Saving into deprecated binary model format, please consider using `json` or `ubj`. Model format will default to JSON in XGBoost 2.2 if not specified.\"\n",
      "2024/04/26 02:13:10 INFO mlflow.utils.autologging_utils: Created MLflow autologging run with ID '6aa437a4c33f4c05a02b9fd5c2065d45', which will track hyperparameters, performance metrics, model artifacts, and lineage information for the current xgboost workflow\n",
      "2024/04/26 02:13:10 WARNING mlflow.utils.autologging_utils: MLflow autologging encountered a warning: \"/Users/kellyliu/anaconda3/lib/python3.11/site-packages/xgboost/core.py:160: UserWarning: [02:13:10] WARNING: /Users/runner/work/xgboost/xgboost/src/c_api/c_api.cc:1240: Saving into deprecated binary model format, please consider using `json` or `ubj`. Model format will default to JSON in XGBoost 2.2 if not specified.\"\n",
      "2024/04/26 02:13:11 INFO mlflow.utils.autologging_utils: Created MLflow autologging run with ID 'fae7b4523abc41e1bed52851505ae062', which will track hyperparameters, performance metrics, model artifacts, and lineage information for the current xgboost workflow\n",
      "2024/04/26 02:13:12 WARNING mlflow.utils.autologging_utils: MLflow autologging encountered a warning: \"/Users/kellyliu/anaconda3/lib/python3.11/site-packages/xgboost/core.py:160: UserWarning: [02:13:12] WARNING: /Users/runner/work/xgboost/xgboost/src/c_api/c_api.cc:1240: Saving into deprecated binary model format, please consider using `json` or `ubj`. Model format will default to JSON in XGBoost 2.2 if not specified.\"\n",
      "2024/04/26 02:13:13 INFO mlflow.utils.autologging_utils: Created MLflow autologging run with ID '2c932b5baf754a6fa3da3078a2900eb6', which will track hyperparameters, performance metrics, model artifacts, and lineage information for the current xgboost workflow\n",
      "2024/04/26 02:13:13 WARNING mlflow.utils.autologging_utils: MLflow autologging encountered a warning: \"/Users/kellyliu/anaconda3/lib/python3.11/site-packages/xgboost/core.py:160: UserWarning: [02:13:13] WARNING: /Users/runner/work/xgboost/xgboost/src/c_api/c_api.cc:1240: Saving into deprecated binary model format, please consider using `json` or `ubj`. Model format will default to JSON in XGBoost 2.2 if not specified.\"\n",
      "2024/04/26 02:13:15 INFO mlflow.utils.autologging_utils: Created MLflow autologging run with ID '97509a95716a480b915b6ad526335936', which will track hyperparameters, performance metrics, model artifacts, and lineage information for the current xgboost workflow\n",
      "2024/04/26 02:13:15 WARNING mlflow.utils.autologging_utils: MLflow autologging encountered a warning: \"/Users/kellyliu/anaconda3/lib/python3.11/site-packages/xgboost/core.py:160: UserWarning: [02:13:15] WARNING: /Users/runner/work/xgboost/xgboost/src/c_api/c_api.cc:1240: Saving into deprecated binary model format, please consider using `json` or `ubj`. Model format will default to JSON in XGBoost 2.2 if not specified.\"\n",
      "2024/04/26 02:13:16 INFO mlflow.utils.autologging_utils: Created MLflow autologging run with ID '7614edb7564d4ab0bbb3b3da023c3778', which will track hyperparameters, performance metrics, model artifacts, and lineage information for the current xgboost workflow\n",
      "2024/04/26 02:13:16 WARNING mlflow.utils.autologging_utils: MLflow autologging encountered a warning: \"/Users/kellyliu/anaconda3/lib/python3.11/site-packages/xgboost/core.py:160: UserWarning: [02:13:16] WARNING: /Users/runner/work/xgboost/xgboost/src/c_api/c_api.cc:1240: Saving into deprecated binary model format, please consider using `json` or `ubj`. Model format will default to JSON in XGBoost 2.2 if not specified.\"\n",
      "2024/04/26 02:13:18 INFO mlflow.utils.autologging_utils: Created MLflow autologging run with ID '4837cb8a332442f69eb04f7b79eb4d28', which will track hyperparameters, performance metrics, model artifacts, and lineage information for the current xgboost workflow\n",
      "2024/04/26 02:13:18 WARNING mlflow.utils.autologging_utils: MLflow autologging encountered a warning: \"/Users/kellyliu/anaconda3/lib/python3.11/site-packages/xgboost/core.py:160: UserWarning: [02:13:18] WARNING: /Users/runner/work/xgboost/xgboost/src/c_api/c_api.cc:1240: Saving into deprecated binary model format, please consider using `json` or `ubj`. Model format will default to JSON in XGBoost 2.2 if not specified.\"\n",
      "2024/04/26 02:13:19 INFO mlflow.utils.autologging_utils: Created MLflow autologging run with ID '9a9c6e92d18049b3949245d702eabcf8', which will track hyperparameters, performance metrics, model artifacts, and lineage information for the current xgboost workflow\n",
      "2024/04/26 02:13:19 WARNING mlflow.utils.autologging_utils: MLflow autologging encountered a warning: \"/Users/kellyliu/anaconda3/lib/python3.11/site-packages/xgboost/core.py:160: UserWarning: [02:13:19] WARNING: /Users/runner/work/xgboost/xgboost/src/c_api/c_api.cc:1240: Saving into deprecated binary model format, please consider using `json` or `ubj`. Model format will default to JSON in XGBoost 2.2 if not specified.\"\n",
      "2024/04/26 02:13:20 INFO mlflow.utils.autologging_utils: Created MLflow autologging run with ID 'a052f4e28fbf4a88a77d7200dab2a9b9', which will track hyperparameters, performance metrics, model artifacts, and lineage information for the current xgboost workflow\n",
      "2024/04/26 02:13:21 WARNING mlflow.utils.autologging_utils: MLflow autologging encountered a warning: \"/Users/kellyliu/anaconda3/lib/python3.11/site-packages/xgboost/core.py:160: UserWarning: [02:13:21] WARNING: /Users/runner/work/xgboost/xgboost/src/c_api/c_api.cc:1240: Saving into deprecated binary model format, please consider using `json` or `ubj`. Model format will default to JSON in XGBoost 2.2 if not specified.\"\n",
      "2024/04/26 02:13:22 INFO mlflow.utils.autologging_utils: Created MLflow autologging run with ID 'b4468f3c21f448e098f6cf6ee055adbe', which will track hyperparameters, performance metrics, model artifacts, and lineage information for the current xgboost workflow\n",
      "2024/04/26 02:13:22 WARNING mlflow.utils.autologging_utils: MLflow autologging encountered a warning: \"/Users/kellyliu/anaconda3/lib/python3.11/site-packages/xgboost/core.py:160: UserWarning: [02:13:22] WARNING: /Users/runner/work/xgboost/xgboost/src/c_api/c_api.cc:1240: Saving into deprecated binary model format, please consider using `json` or `ubj`. Model format will default to JSON in XGBoost 2.2 if not specified.\"\n",
      "2024/04/26 02:13:23 INFO mlflow.utils.autologging_utils: Created MLflow autologging run with ID '371e5073ea574ad49ae9624bc8a240a8', which will track hyperparameters, performance metrics, model artifacts, and lineage information for the current xgboost workflow\n",
      "2024/04/26 02:13:23 WARNING mlflow.utils.autologging_utils: MLflow autologging encountered a warning: \"/Users/kellyliu/anaconda3/lib/python3.11/site-packages/xgboost/core.py:160: UserWarning: [02:13:23] WARNING: /Users/runner/work/xgboost/xgboost/src/c_api/c_api.cc:1240: Saving into deprecated binary model format, please consider using `json` or `ubj`. Model format will default to JSON in XGBoost 2.2 if not specified.\"\n",
      "2024/04/26 02:13:25 INFO mlflow.utils.autologging_utils: Created MLflow autologging run with ID '31fc67a078d5489fb18c2f5ace1113f9', which will track hyperparameters, performance metrics, model artifacts, and lineage information for the current xgboost workflow\n",
      "2024/04/26 02:13:25 WARNING mlflow.utils.autologging_utils: MLflow autologging encountered a warning: \"/Users/kellyliu/anaconda3/lib/python3.11/site-packages/xgboost/core.py:160: UserWarning: [02:13:25] WARNING: /Users/runner/work/xgboost/xgboost/src/c_api/c_api.cc:1240: Saving into deprecated binary model format, please consider using `json` or `ubj`. Model format will default to JSON in XGBoost 2.2 if not specified.\"\n",
      "2024/04/26 02:13:27 INFO mlflow.utils.autologging_utils: Created MLflow autologging run with ID 'cb1445ec1539415c85ff5a6c53100051', which will track hyperparameters, performance metrics, model artifacts, and lineage information for the current xgboost workflow\n",
      "2024/04/26 02:13:27 WARNING mlflow.utils.autologging_utils: MLflow autologging encountered a warning: \"/Users/kellyliu/anaconda3/lib/python3.11/site-packages/xgboost/core.py:160: UserWarning: [02:13:27] WARNING: /Users/runner/work/xgboost/xgboost/src/c_api/c_api.cc:1240: Saving into deprecated binary model format, please consider using `json` or `ubj`. Model format will default to JSON in XGBoost 2.2 if not specified.\"\n",
      "2024/04/26 02:13:28 INFO mlflow.utils.autologging_utils: Created MLflow autologging run with ID 'a516173ec15942599e4a0eb4cbe198a3', which will track hyperparameters, performance metrics, model artifacts, and lineage information for the current xgboost workflow\n",
      "2024/04/26 02:13:28 WARNING mlflow.utils.autologging_utils: MLflow autologging encountered a warning: \"/Users/kellyliu/anaconda3/lib/python3.11/site-packages/xgboost/core.py:160: UserWarning: [02:13:28] WARNING: /Users/runner/work/xgboost/xgboost/src/c_api/c_api.cc:1240: Saving into deprecated binary model format, please consider using `json` or `ubj`. Model format will default to JSON in XGBoost 2.2 if not specified.\"\n",
      "2024/04/26 02:13:30 INFO mlflow.utils.autologging_utils: Created MLflow autologging run with ID '9b577ca4ee354b66b9635f6b625bde49', which will track hyperparameters, performance metrics, model artifacts, and lineage information for the current xgboost workflow\n",
      "2024/04/26 02:13:30 WARNING mlflow.utils.autologging_utils: MLflow autologging encountered a warning: \"/Users/kellyliu/anaconda3/lib/python3.11/site-packages/xgboost/core.py:160: UserWarning: [02:13:30] WARNING: /Users/runner/work/xgboost/xgboost/src/c_api/c_api.cc:1240: Saving into deprecated binary model format, please consider using `json` or `ubj`. Model format will default to JSON in XGBoost 2.2 if not specified.\"\n",
      "2024/04/26 02:13:32 INFO mlflow.utils.autologging_utils: Created MLflow autologging run with ID '901bdf9e98c3456790e6ad9dbbb9f61f', which will track hyperparameters, performance metrics, model artifacts, and lineage information for the current xgboost workflow\n",
      "2024/04/26 02:13:32 WARNING mlflow.utils.autologging_utils: MLflow autologging encountered a warning: \"/Users/kellyliu/anaconda3/lib/python3.11/site-packages/xgboost/core.py:160: UserWarning: [02:13:32] WARNING: /Users/runner/work/xgboost/xgboost/src/c_api/c_api.cc:1240: Saving into deprecated binary model format, please consider using `json` or `ubj`. Model format will default to JSON in XGBoost 2.2 if not specified.\"\n",
      "2024/04/26 02:13:33 INFO mlflow.utils.autologging_utils: Created MLflow autologging run with ID 'db4f1315fc9647e38ebbede2ad75c3b5', which will track hyperparameters, performance metrics, model artifacts, and lineage information for the current xgboost workflow\n",
      "2024/04/26 02:13:34 WARNING mlflow.utils.autologging_utils: MLflow autologging encountered a warning: \"/Users/kellyliu/anaconda3/lib/python3.11/site-packages/xgboost/core.py:160: UserWarning: [02:13:34] WARNING: /Users/runner/work/xgboost/xgboost/src/c_api/c_api.cc:1240: Saving into deprecated binary model format, please consider using `json` or `ubj`. Model format will default to JSON in XGBoost 2.2 if not specified.\"\n",
      "2024/04/26 02:13:35 INFO mlflow.utils.autologging_utils: Created MLflow autologging run with ID 'c5a73e4d2c3344abb9e349c62fd7f5f3', which will track hyperparameters, performance metrics, model artifacts, and lineage information for the current xgboost workflow\n",
      "2024/04/26 02:13:35 WARNING mlflow.utils.autologging_utils: MLflow autologging encountered a warning: \"/Users/kellyliu/anaconda3/lib/python3.11/site-packages/xgboost/core.py:160: UserWarning: [02:13:35] WARNING: /Users/runner/work/xgboost/xgboost/src/c_api/c_api.cc:1240: Saving into deprecated binary model format, please consider using `json` or `ubj`. Model format will default to JSON in XGBoost 2.2 if not specified.\"\n",
      "2024/04/26 02:13:37 INFO mlflow.utils.autologging_utils: Created MLflow autologging run with ID '6f9abfa030584bb983a34c8ac1d2d77b', which will track hyperparameters, performance metrics, model artifacts, and lineage information for the current xgboost workflow\n",
      "2024/04/26 02:13:37 WARNING mlflow.utils.autologging_utils: MLflow autologging encountered a warning: \"/Users/kellyliu/anaconda3/lib/python3.11/site-packages/xgboost/core.py:160: UserWarning: [02:13:37] WARNING: /Users/runner/work/xgboost/xgboost/src/c_api/c_api.cc:1240: Saving into deprecated binary model format, please consider using `json` or `ubj`. Model format will default to JSON in XGBoost 2.2 if not specified.\"\n",
      "2024/04/26 02:13:38 INFO mlflow.utils.autologging_utils: Created MLflow autologging run with ID 'bae8d0c5d84e46bbb81b15869b26a958', which will track hyperparameters, performance metrics, model artifacts, and lineage information for the current xgboost workflow\n",
      "2024/04/26 02:13:39 WARNING mlflow.utils.autologging_utils: MLflow autologging encountered a warning: \"/Users/kellyliu/anaconda3/lib/python3.11/site-packages/xgboost/core.py:160: UserWarning: [02:13:39] WARNING: /Users/runner/work/xgboost/xgboost/src/c_api/c_api.cc:1240: Saving into deprecated binary model format, please consider using `json` or `ubj`. Model format will default to JSON in XGBoost 2.2 if not specified.\"\n",
      "2024/04/26 02:13:40 INFO mlflow.utils.autologging_utils: Created MLflow autologging run with ID 'ef037bb3b47a47c08356b29e93d3d620', which will track hyperparameters, performance metrics, model artifacts, and lineage information for the current xgboost workflow\n",
      "2024/04/26 02:13:40 WARNING mlflow.utils.autologging_utils: MLflow autologging encountered a warning: \"/Users/kellyliu/anaconda3/lib/python3.11/site-packages/xgboost/core.py:160: UserWarning: [02:13:40] WARNING: /Users/runner/work/xgboost/xgboost/src/c_api/c_api.cc:1240: Saving into deprecated binary model format, please consider using `json` or `ubj`. Model format will default to JSON in XGBoost 2.2 if not specified.\"\n",
      "/Users/kellyliu/anaconda3/lib/python3.11/site-packages/sklearn/metrics/_classification.py:1509: UndefinedMetricWarning: Precision is ill-defined and being set to 0.0 in labels with no predicted samples. Use `zero_division` parameter to control this behavior.\n",
      "  _warn_prf(average, modifier, f\"{metric.capitalize()} is\", len(result))\n",
      "/Users/kellyliu/anaconda3/lib/python3.11/site-packages/sklearn/metrics/_classification.py:1509: UndefinedMetricWarning: Precision is ill-defined and being set to 0.0 in labels with no predicted samples. Use `zero_division` parameter to control this behavior.\n",
      "  _warn_prf(average, modifier, f\"{metric.capitalize()} is\", len(result))\n",
      "/Users/kellyliu/anaconda3/lib/python3.11/site-packages/sklearn/metrics/_classification.py:1509: UndefinedMetricWarning: Precision is ill-defined and being set to 0.0 in labels with no predicted samples. Use `zero_division` parameter to control this behavior.\n",
      "  _warn_prf(average, modifier, f\"{metric.capitalize()} is\", len(result))\n",
      "/Users/kellyliu/anaconda3/lib/python3.11/site-packages/xgboost/core.py:160: UserWarning: [02:13:41] WARNING: /Users/runner/work/xgboost/xgboost/src/c_api/c_api.cc:1240: Saving into deprecated binary model format, please consider using `json` or `ubj`. Model format will default to JSON in XGBoost 2.2 if not specified.\n",
      "  warnings.warn(smsg, UserWarning)\n"
     ]
    },
    {
     "name": "stdout",
     "output_type": "stream",
     "text": [
      "              precision    recall  f1-score   support\n",
      "\n",
      "           0       0.84      1.00      0.92       237\n",
      "           1       1.00      1.00      1.00       118\n",
      "           2       0.00      0.00      0.00         2\n",
      "           3       1.00      1.00      1.00         9\n",
      "           4       1.00      0.48      0.65        81\n",
      "\n",
      "    accuracy                           0.90       447\n",
      "   macro avg       0.77      0.70      0.71       447\n",
      "weighted avg       0.91      0.90      0.89       447\n",
      "\n",
      "Best parameters found:  {'learning_rate': 0.1, 'max_depth': 3, 'n_estimators': 50, 'subsample': 1.0}\n",
      "Accuracy:  0.901565995525727\n"
     ]
    }
   ],
   "source": [
    "import streamlit as st\n",
    "import requests\n",
    "import json\n",
    "\n",
    "# Define the URL of the MLflow model\n",
    "prediction_api_URL = \"http://localhost:8000/predict/\"\n",
    "Causal_api_URL = \"http://localhost:8000/causal/\"\n",
    "cluster_api_URL = \"http://localhost:8000/clsuter/\"\n",
    "\n",
    "# Streamlit app layout\n",
    "st.title('Customer-Personality-Analysis-2.0 Customer Insight Hub')\n",
    "\n",
    "# Add tabs for different functionalities\n",
    "tabs = [\"Causal Inference\", \"Clustering\", \"Segment Prediction\"]\n",
    "selected_tab = st.sidebar.radio(\"Select Model\", tabs)\n",
    "\n",
    "# Display content based on selected tab\n",
    "if selected_tab == \"Causal Inference\":\n",
    "    # Prepare the data in the format the MLflow model expects\n",
    "    target_options = ['Recency', 'Total_purchase', 'Total_amount']\n",
    "    Target = st.selectbox(\"Select Target\", target_options)\n",
    "    \n",
    "    treatment_options = ['Income_Category_High', 'Is_Parent', 'Cmp_Attitude', 'Complain']\n",
    "    Treatment = st.selectbox(\"Select Treatment\", treatment_options)\n",
    "    \n",
    "    confounding_options = ['Income_Category_High', 'Income_Category_Low', 'Income_Category_Medium',\n",
    "                           'Complain', 'Is_Parent', 'Cmp_Attitude', 'Family_Size', 'Age',\n",
    "                           'Member_Year', 'Total_amount', 'Total_purchase',\n",
    "                           'NumWebVisitsMonth', 'NumDealsPurchases', 'Recency']\n",
    "    ConfoundingVar = st.multiselect(\"Select Confounding Variables\", confounding_options)\n",
    "    \n",
    "    # Button to call the model\n",
    "    if st.button('Run Causal Inference Model'):\n",
    "        data = json.dumps({\n",
    "            \"columns\": [\"Target\", \"Treatment\", \"Confounding Variables\"],\n",
    "            \"data\": [[Target, Treatment, ConfoundingVar]]\n",
    "        })\n",
    "        headers = {'Content-Type': 'application/json'}\n",
    "        \n",
    "        # Send the data to the model\n",
    "        response = requests.post(Causal_api_URL, data=data, headers=headers)\n",
    "        \n",
    "        if response.status_code == 200:\n",
    "            result = response.json()\n",
    "            st.success(f'Result: {result}')\n",
    "        else:\n",
    "            st.error('Failed to get prediction from the model.')\n",
    "elif selected_tab == \"Clustering\":\n",
    "    # Button to run clustering\n",
    "    if st.button('Clustering'):\n",
    "        # Send the data to the model\n",
    "        response = requests.post(cluster_api_URL)\n",
    "        \n",
    "        if response.status_code == 200:\n",
    "            result = response.json()\n",
    "            st.success(f'Result: {result}')\n",
    "        else:\n",
    "            st.error('Failed to get prediction from the model.')\n",
    "elif selected_tab == \"Segment Prediction\":\n",
    "    # Input fields for user data\n",
    "    Total_amount = st.number_input(\"Total Amount\", value=0.0)\n",
    "    Is_Parent = st.selectbox(\"Is Parent\", [True, False])\n",
    "    Total_Children = st.number_input(\"Total Children\", value=0, step=1)\n",
    "    NumDealsPurchases = st.number_input(\"Number of Deals/Purchases\", value=0, step=1)\n",
    "    Income = st.number_input(\"Income\", value=0.0)\n",
    "    Family_Size = st.number_input(\"Family Size\", value=0, step=1)\n",
    "    NumWebVisitsMonth = st.number_input(\"Number of Web Visits per Month\", value=0, step=1)\n",
    "    Total_purchase = st.number_input(\"Total Purchase\", value=0.0)\n",
    "    MntWines = st.number_input(\"Amount Spent on Wines\", value=0.0)\n",
    "    Teenhome = st.number_input(\"Number of Teenagers at Home\", value=0, step=1)\n",
    "\n",
    "    # Button to make prediction\n",
    "    if st.button('Predict'):\n",
    "        # Prepare data in JSON format\n",
    "        data = json.dumps({\n",
    "            \"Total_amount\": Total_amount,\n",
    "            \"Is_Parent\": Is_Parent,\n",
    "            \"Total_Children\": Total_Children,\n",
    "            \"NumDealsPurchases\": NumDealsPurchases,\n",
    "            \"Income\": Income,\n",
    "            \"Family_Size\": Family_Size,\n",
    "            \"NumWebVisitsMonth\": NumWebVisitsMonth,\n",
    "            \"Total_purchase\": Total_purchase,\n",
    "            \"MntWines\": MntWines,\n",
    "            \"Teenhome\": Teenhome\n",
    "        })\n",
    "        headers = {'Content-Type': 'application/json'}\n",
    "        \n",
    "        # Send the data to the model\n",
    "        response = requests.post(prediction_api_URL, data=data, headers=headers)\n",
    "        \n",
    "        if response.status_code == 200:\n",
    "            result = response.json()\n",
    "            st.success(f'Result: {result}')\n",
    "        else:\n",
    "            st.error('Failed to get prediction from the model.')\n"
   ]
  },
  {
   "cell_type": "markdown",
   "metadata": {},
   "source": [
    "# Model Logging and Registering"
   ]
  },
  {
   "cell_type": "code",
   "execution_count": 10,
   "metadata": {},
   "outputs": [
    {
     "name": "stderr",
     "output_type": "stream",
     "text": [
      "Registered model 'Customer_Segment_Prediction_Model' already exists. Creating a new version of this model...\n",
      "2024/04/26 02:15:32 INFO mlflow.store.model_registry.abstract_store: Waiting up to 300 seconds for model version to finish creation. Model name: Customer_Segment_Prediction_Model, version 4\n",
      "Created version '4' of model 'Customer_Segment_Prediction_Model'.\n"
     ]
    }
   ],
   "source": [
    "option = \"REGISTRY\"\n",
    "\n",
    "if option == \"REGISTRY\":\n",
    "    mlflow.end_run()\n",
    "    with mlflow.start_run():\n",
    "        # Log parameters and metrics\n",
    "        mlflow.log_params(params)\n",
    "        mlflow.log_metric(\"accuracy\", accuracy)\n",
    "\n",
    "        # Set a tag describing the run\n",
    "        mlflow.set_tag(\"Training Info\", \"Model for Customer Segment Prediction\")\n",
    "\n",
    "        # Infer signature of the input and output of the model\n",
    "        signature = infer_signature(X_train_scaled, y_pred)\n",
    "        \n",
    "        # Log the model and register it in the MLflow model registry under the name \"Customer_Segment_Prediction_Model\"\n",
    "        mlflow.sklearn.log_model(\n",
    "            sk_model=best_clf,\n",
    "            artifact_path=\"model\",\n",
    "            registered_model_name=\"Customer_Segment_Prediction_Model\"\n",
    "        )\n"
   ]
  },
  {
   "cell_type": "code",
   "execution_count": 11,
   "metadata": {},
   "outputs": [
    {
     "name": "stderr",
     "output_type": "stream",
     "text": [
      "/Users/kellyliu/anaconda3/lib/python3.11/site-packages/mlflow/store/artifact/utils/models.py:32: FutureWarning: ``mlflow.tracking.client.MlflowClient.get_latest_versions`` is deprecated since 2.9.0. Model registry stages will be removed in a future major release. To learn more about the deprecation of model registry stages, see our migration guide here: https://mlflow.org/docs/2.12.1/model-registry.html#migrating-from-stages\n",
      "  latest = client.get_latest_versions(name, None if stage is None else [stage])\n"
     ]
    },
    {
     "data": {
      "application/vnd.jupyter.widget-view+json": {
       "model_id": "b62362c4adf2481aa4b7f542148f81a6",
       "version_major": 2,
       "version_minor": 0
      },
      "text/plain": [
       "Downloading artifacts:   0%|          | 0/9 [00:00<?, ?it/s]"
      ]
     },
     "metadata": {},
     "output_type": "display_data"
    }
   ],
   "source": [
    "# Model retrieval and prediction check\n",
    "loaded_model = mlflow.pyfunc.load_model(f\"models:/Customer_Segment_Prediction_Model/Production\")\n",
    "input_data = X_test_scaled[0:1]\n",
    "predictions = loaded_model.predict(input_data)"
   ]
  },
  {
   "cell_type": "code",
   "execution_count": 12,
   "metadata": {},
   "outputs": [
    {
     "name": "stdout",
     "output_type": "stream",
     "text": [
      "[[0.25793651 1.         0.33333333 0.26666667 0.29469305 0.5\n",
      "  0.25       0.53125    0.24061662 0.5       ]]\n"
     ]
    }
   ],
   "source": [
    "print(input_data)"
   ]
  },
  {
   "cell_type": "code",
   "execution_count": 13,
   "metadata": {},
   "outputs": [
    {
     "name": "stdout",
     "output_type": "stream",
     "text": [
      "Model predictions:  [0]\n"
     ]
    }
   ],
   "source": [
    "print(\"Model predictions: \", predictions)"
   ]
  }
 ],
 "metadata": {
  "kernelspec": {
   "display_name": "base",
   "language": "python",
   "name": "python3"
  },
  "language_info": {
   "codemirror_mode": {
    "name": "ipython",
    "version": 3
   },
   "file_extension": ".py",
   "mimetype": "text/x-python",
   "name": "python",
   "nbconvert_exporter": "python",
   "pygments_lexer": "ipython3",
   "version": "3.11.5"
  }
 },
 "nbformat": 4,
 "nbformat_minor": 2
}
